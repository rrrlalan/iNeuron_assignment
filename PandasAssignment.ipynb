{
 "cells": [
  {
   "cell_type": "markdown",
   "id": "1e3adf03",
   "metadata": {},
   "source": [
    "# Q1. How do you load a CSV file into a Pandas DataFrame?"
   ]
  },
  {
   "cell_type": "code",
   "execution_count": 1,
   "id": "e5679036",
   "metadata": {},
   "outputs": [
    {
     "data": {
      "text/html": [
       "<div>\n",
       "<style scoped>\n",
       "    .dataframe tbody tr th:only-of-type {\n",
       "        vertical-align: middle;\n",
       "    }\n",
       "\n",
       "    .dataframe tbody tr th {\n",
       "        vertical-align: top;\n",
       "    }\n",
       "\n",
       "    .dataframe thead th {\n",
       "        text-align: right;\n",
       "    }\n",
       "</style>\n",
       "<table border=\"1\" class=\"dataframe\">\n",
       "  <thead>\n",
       "    <tr style=\"text-align: right;\">\n",
       "      <th></th>\n",
       "      <th>name</th>\n",
       "      <th>emailid</th>\n",
       "      <th>pin code</th>\n",
       "      <th>sirname</th>\n",
       "    </tr>\n",
       "  </thead>\n",
       "  <tbody>\n",
       "    <tr>\n",
       "      <th>0</th>\n",
       "      <td>lalan</td>\n",
       "      <td>rrrlalan@gmail.com</td>\n",
       "      <td>825103</td>\n",
       "      <td>kumar</td>\n",
       "    </tr>\n",
       "    <tr>\n",
       "      <th>1</th>\n",
       "      <td>shashank</td>\n",
       "      <td>shasha@gmail.com</td>\n",
       "      <td>152354</td>\n",
       "      <td>pandit</td>\n",
       "    </tr>\n",
       "    <tr>\n",
       "      <th>2</th>\n",
       "      <td>guddu</td>\n",
       "      <td>abc@gmail.com</td>\n",
       "      <td>123456</td>\n",
       "      <td>kumar</td>\n",
       "    </tr>\n",
       "    <tr>\n",
       "      <th>3</th>\n",
       "      <td>sudhanshu</td>\n",
       "      <td>sskumar9876@gmail.com</td>\n",
       "      <td>560085</td>\n",
       "      <td>kumar</td>\n",
       "    </tr>\n",
       "  </tbody>\n",
       "</table>\n",
       "</div>"
      ],
      "text/plain": [
       "        name                emailid  pin code sirname\n",
       "0      lalan     rrrlalan@gmail.com    825103   kumar\n",
       "1   shashank       shasha@gmail.com    152354  pandit\n",
       "2      guddu          abc@gmail.com    123456   kumar\n",
       "3  sudhanshu  sskumar9876@gmail.com    560085   kumar"
      ]
     },
     "execution_count": 1,
     "metadata": {},
     "output_type": "execute_result"
    }
   ],
   "source": [
    "import pandas as pd # Importing panda library\n",
    "df = pd.read_csv(\"sample_data.csv\") # loading csv file into panda data frame\n",
    "df # printing dataframe"
   ]
  },
  {
   "cell_type": "markdown",
   "id": "e3027fa0",
   "metadata": {},
   "source": [
    "# Q2. How do you check the data type of a column in a Pandas DataFrame?"
   ]
  },
  {
   "cell_type": "code",
   "execution_count": 2,
   "id": "6c7108dc",
   "metadata": {},
   "outputs": [
    {
     "data": {
      "text/plain": [
       "pandas.core.series.Series"
      ]
     },
     "execution_count": 2,
     "metadata": {},
     "output_type": "execute_result"
    }
   ],
   "source": [
    "type(df[\"name\"]) #printing data type of a column"
   ]
  },
  {
   "cell_type": "markdown",
   "id": "694ebe9c",
   "metadata": {},
   "source": [
    "# Q3. How do you select rows from a Pandas DataFrame based on a condition?"
   ]
  },
  {
   "cell_type": "code",
   "execution_count": 3,
   "id": "c30bd66e",
   "metadata": {},
   "outputs": [
    {
     "data": {
      "text/html": [
       "<div>\n",
       "<style scoped>\n",
       "    .dataframe tbody tr th:only-of-type {\n",
       "        vertical-align: middle;\n",
       "    }\n",
       "\n",
       "    .dataframe tbody tr th {\n",
       "        vertical-align: top;\n",
       "    }\n",
       "\n",
       "    .dataframe thead th {\n",
       "        text-align: right;\n",
       "    }\n",
       "</style>\n",
       "<table border=\"1\" class=\"dataframe\">\n",
       "  <thead>\n",
       "    <tr style=\"text-align: right;\">\n",
       "      <th></th>\n",
       "      <th>name</th>\n",
       "      <th>emailid</th>\n",
       "      <th>pin code</th>\n",
       "      <th>sirname</th>\n",
       "    </tr>\n",
       "  </thead>\n",
       "  <tbody>\n",
       "    <tr>\n",
       "      <th>0</th>\n",
       "      <td>lalan</td>\n",
       "      <td>rrrlalan@gmail.com</td>\n",
       "      <td>825103</td>\n",
       "      <td>kumar</td>\n",
       "    </tr>\n",
       "  </tbody>\n",
       "</table>\n",
       "</div>"
      ],
      "text/plain": [
       "    name             emailid  pin code sirname\n",
       "0  lalan  rrrlalan@gmail.com    825103   kumar"
      ]
     },
     "execution_count": 3,
     "metadata": {},
     "output_type": "execute_result"
    }
   ],
   "source": [
    "df[df[\"name\"] == \"lalan\"]"
   ]
  },
  {
   "cell_type": "markdown",
   "id": "bde12b25",
   "metadata": {},
   "source": [
    "# Q4. How do you rename columns in a Pandas DataFrame?"
   ]
  },
  {
   "cell_type": "code",
   "execution_count": 4,
   "id": "58f02ba5",
   "metadata": {},
   "outputs": [
    {
     "data": {
      "text/html": [
       "<div>\n",
       "<style scoped>\n",
       "    .dataframe tbody tr th:only-of-type {\n",
       "        vertical-align: middle;\n",
       "    }\n",
       "\n",
       "    .dataframe tbody tr th {\n",
       "        vertical-align: top;\n",
       "    }\n",
       "\n",
       "    .dataframe thead th {\n",
       "        text-align: right;\n",
       "    }\n",
       "</style>\n",
       "<table border=\"1\" class=\"dataframe\">\n",
       "  <thead>\n",
       "    <tr style=\"text-align: right;\">\n",
       "      <th></th>\n",
       "      <th>Name</th>\n",
       "      <th>Email_id</th>\n",
       "      <th>pin code</th>\n",
       "      <th>sirname</th>\n",
       "    </tr>\n",
       "  </thead>\n",
       "  <tbody>\n",
       "    <tr>\n",
       "      <th>0</th>\n",
       "      <td>lalan</td>\n",
       "      <td>rrrlalan@gmail.com</td>\n",
       "      <td>825103</td>\n",
       "      <td>kumar</td>\n",
       "    </tr>\n",
       "    <tr>\n",
       "      <th>1</th>\n",
       "      <td>shashank</td>\n",
       "      <td>shasha@gmail.com</td>\n",
       "      <td>152354</td>\n",
       "      <td>pandit</td>\n",
       "    </tr>\n",
       "    <tr>\n",
       "      <th>2</th>\n",
       "      <td>guddu</td>\n",
       "      <td>abc@gmail.com</td>\n",
       "      <td>123456</td>\n",
       "      <td>kumar</td>\n",
       "    </tr>\n",
       "    <tr>\n",
       "      <th>3</th>\n",
       "      <td>sudhanshu</td>\n",
       "      <td>sskumar9876@gmail.com</td>\n",
       "      <td>560085</td>\n",
       "      <td>kumar</td>\n",
       "    </tr>\n",
       "  </tbody>\n",
       "</table>\n",
       "</div>"
      ],
      "text/plain": [
       "        Name               Email_id  pin code sirname\n",
       "0      lalan     rrrlalan@gmail.com    825103   kumar\n",
       "1   shashank       shasha@gmail.com    152354  pandit\n",
       "2      guddu          abc@gmail.com    123456   kumar\n",
       "3  sudhanshu  sskumar9876@gmail.com    560085   kumar"
      ]
     },
     "execution_count": 4,
     "metadata": {},
     "output_type": "execute_result"
    }
   ],
   "source": [
    "df.rename(columns={\"name\":\"Name\", \"emailid\":\"Email_id\"}, inplace=True)\n",
    "df"
   ]
  },
  {
   "cell_type": "code",
   "execution_count": 5,
   "id": "c7d9ad05",
   "metadata": {},
   "outputs": [
    {
     "data": {
      "text/html": [
       "<div>\n",
       "<style scoped>\n",
       "    .dataframe tbody tr th:only-of-type {\n",
       "        vertical-align: middle;\n",
       "    }\n",
       "\n",
       "    .dataframe tbody tr th {\n",
       "        vertical-align: top;\n",
       "    }\n",
       "\n",
       "    .dataframe thead th {\n",
       "        text-align: right;\n",
       "    }\n",
       "</style>\n",
       "<table border=\"1\" class=\"dataframe\">\n",
       "  <thead>\n",
       "    <tr style=\"text-align: right;\">\n",
       "      <th></th>\n",
       "      <th>Name1</th>\n",
       "      <th>Email1</th>\n",
       "      <th>Pin1</th>\n",
       "      <th>LastName1</th>\n",
       "    </tr>\n",
       "  </thead>\n",
       "  <tbody>\n",
       "    <tr>\n",
       "      <th>0</th>\n",
       "      <td>lalan</td>\n",
       "      <td>rrrlalan@gmail.com</td>\n",
       "      <td>825103</td>\n",
       "      <td>kumar</td>\n",
       "    </tr>\n",
       "    <tr>\n",
       "      <th>1</th>\n",
       "      <td>shashank</td>\n",
       "      <td>shasha@gmail.com</td>\n",
       "      <td>152354</td>\n",
       "      <td>pandit</td>\n",
       "    </tr>\n",
       "    <tr>\n",
       "      <th>2</th>\n",
       "      <td>guddu</td>\n",
       "      <td>abc@gmail.com</td>\n",
       "      <td>123456</td>\n",
       "      <td>kumar</td>\n",
       "    </tr>\n",
       "    <tr>\n",
       "      <th>3</th>\n",
       "      <td>sudhanshu</td>\n",
       "      <td>sskumar9876@gmail.com</td>\n",
       "      <td>560085</td>\n",
       "      <td>kumar</td>\n",
       "    </tr>\n",
       "  </tbody>\n",
       "</table>\n",
       "</div>"
      ],
      "text/plain": [
       "       Name1                 Email1    Pin1 LastName1\n",
       "0      lalan     rrrlalan@gmail.com  825103     kumar\n",
       "1   shashank       shasha@gmail.com  152354    pandit\n",
       "2      guddu          abc@gmail.com  123456     kumar\n",
       "3  sudhanshu  sskumar9876@gmail.com  560085     kumar"
      ]
     },
     "execution_count": 5,
     "metadata": {},
     "output_type": "execute_result"
    }
   ],
   "source": [
    "df.columns = [\"Name1\", \"Email1\", \"Pin1\", \"LastName1\"]\n",
    "df"
   ]
  },
  {
   "cell_type": "markdown",
   "id": "b6d0f547",
   "metadata": {},
   "source": [
    "# Q5. How do you drop columns in a Pandas DataFrame?"
   ]
  },
  {
   "cell_type": "code",
   "execution_count": 31,
   "id": "53fa4342",
   "metadata": {},
   "outputs": [
    {
     "data": {
      "text/html": [
       "<div>\n",
       "<style scoped>\n",
       "    .dataframe tbody tr th:only-of-type {\n",
       "        vertical-align: middle;\n",
       "    }\n",
       "\n",
       "    .dataframe tbody tr th {\n",
       "        vertical-align: top;\n",
       "    }\n",
       "\n",
       "    .dataframe thead th {\n",
       "        text-align: right;\n",
       "    }\n",
       "</style>\n",
       "<table border=\"1\" class=\"dataframe\">\n",
       "  <thead>\n",
       "    <tr style=\"text-align: right;\">\n",
       "      <th></th>\n",
       "      <th>Name1</th>\n",
       "      <th>Email1</th>\n",
       "    </tr>\n",
       "  </thead>\n",
       "  <tbody>\n",
       "    <tr>\n",
       "      <th>0</th>\n",
       "      <td>lalan</td>\n",
       "      <td>rrrlalan@gmail.com</td>\n",
       "    </tr>\n",
       "    <tr>\n",
       "      <th>1</th>\n",
       "      <td>shashank</td>\n",
       "      <td>shasha@gmail.com</td>\n",
       "    </tr>\n",
       "    <tr>\n",
       "      <th>2</th>\n",
       "      <td>guddu</td>\n",
       "      <td>abc@gmail.com</td>\n",
       "    </tr>\n",
       "    <tr>\n",
       "      <th>3</th>\n",
       "      <td>sudhanshu</td>\n",
       "      <td>sskumar9876@gmail.com</td>\n",
       "    </tr>\n",
       "  </tbody>\n",
       "</table>\n",
       "</div>"
      ],
      "text/plain": [
       "       Name1                 Email1\n",
       "0      lalan     rrrlalan@gmail.com\n",
       "1   shashank       shasha@gmail.com\n",
       "2      guddu          abc@gmail.com\n",
       "3  sudhanshu  sskumar9876@gmail.com"
      ]
     },
     "execution_count": 31,
     "metadata": {},
     "output_type": "execute_result"
    }
   ],
   "source": [
    "df.drop([\"LastName1\", \"Pin1\"], axis=1, inplace=True)\n",
    "df"
   ]
  },
  {
   "cell_type": "markdown",
   "id": "10b1acec",
   "metadata": {},
   "source": [
    "# Q6. How do you find the unique values in a column of a Pandas DataFrame?"
   ]
  },
  {
   "cell_type": "code",
   "execution_count": 6,
   "id": "933d9620",
   "metadata": {},
   "outputs": [
    {
     "data": {
      "text/plain": [
       "array(['lalan', 'shashank', 'guddu', 'sudhanshu'], dtype=object)"
      ]
     },
     "execution_count": 6,
     "metadata": {},
     "output_type": "execute_result"
    }
   ],
   "source": [
    "df[\"Name1\"].unique()"
   ]
  },
  {
   "cell_type": "markdown",
   "id": "b93bc3c2",
   "metadata": {},
   "source": [
    "# Q7. How do you find the number of missing values in each column of a Pandas DataFrame?"
   ]
  },
  {
   "cell_type": "code",
   "execution_count": 7,
   "id": "92973d1e",
   "metadata": {},
   "outputs": [
    {
     "data": {
      "text/plain": [
       "Name1        0\n",
       "Email1       0\n",
       "Pin1         0\n",
       "LastName1    0\n",
       "dtype: int64"
      ]
     },
     "execution_count": 7,
     "metadata": {},
     "output_type": "execute_result"
    }
   ],
   "source": [
    "df.isnull().sum()"
   ]
  },
  {
   "cell_type": "markdown",
   "id": "26c24cfb",
   "metadata": {},
   "source": [
    "# Q8. How do you fill missing values in a Pandas DataFrame with a specific value?"
   ]
  },
  {
   "cell_type": "code",
   "execution_count": 81,
   "id": "514d66c5",
   "metadata": {},
   "outputs": [
    {
     "name": "stdout",
     "output_type": "stream",
     "text": [
      "         mass  diameter Pin1\n",
      "earth       3         1     \n",
      "mars        4         2     \n",
      "jupiter     5         3     \n",
      "         mass  diameter Pin1\n",
      "earth       3         1     \n",
      "mars        4         2     \n",
      "jupiter     5         3     \n",
      "\n",
      "          mass  diameter             Pin1\n",
      "earth       3         1  ValuetoBeFilled\n",
      "mars        4         2  ValuetoBeFilled\n",
      "jupiter     5         3  ValuetoBeFilled\n",
      "\n",
      "          mass  diameter Pin1\n",
      "earth       3         1     \n",
      "mars        4         2     \n",
      "jupiter     5         3     \n"
     ]
    }
   ],
   "source": [
    "df[\"Pin1\"] = ''\n",
    "print(df)\n",
    "df.fillna(value=\"ValuetoBeFilled\", inplace=True) #Finding missing value and replacig with \"ValuetoBeFilled\" for entire df\n",
    "print(df)\n",
    "df.replace(\"\", \"ValuetoBeFilled\",inplace=True)\n",
    "print(\"\\n\", df)\n",
    "df[\"Pin1\"] = ''\n",
    "df[\"Pin1\"].interpolate(method ='linear', limit_direction ='forward', inplace=True)\n",
    "print(\"\\n\", df)\n",
    "df = pd.read_csv(\"sample_data.csv\")"
   ]
  },
  {
   "cell_type": "markdown",
   "id": "13735bdc",
   "metadata": {},
   "source": [
    "# Q9. How do you concatenate two Pandas DataFrames?"
   ]
  },
  {
   "cell_type": "code",
   "execution_count": 82,
   "id": "5db03726",
   "metadata": {},
   "outputs": [
    {
     "name": "stdout",
     "output_type": "stream",
     "text": [
      "        name                emailid  pin code sirname\n",
      "0      lalan     rrrlalan@gmail.com    825103   kumar\n",
      "1   shashank       shasha@gmail.com    152354  pandit\n",
      "2      guddu          abc@gmail.com    123456   kumar\n",
      "3  sudhanshu  sskumar9876@gmail.com    560085   kumar \n",
      "\n",
      "         name                emailid  pin code sirname\n",
      "0      lalan     rrrlalan@gmail.com    825103   kumar\n",
      "1   shashank       shasha@gmail.com    152354  pandit\n",
      "2      guddu          abc@gmail.com    123456   kumar\n",
      "3  sudhanshu  sskumar9876@gmail.com    560085   kumar \n",
      "\n",
      "         name                emailid  pin code sirname\n",
      "0      lalan     rrrlalan@gmail.com    825103   kumar\n",
      "1   shashank       shasha@gmail.com    152354  pandit\n",
      "2      guddu          abc@gmail.com    123456   kumar\n",
      "3  sudhanshu  sskumar9876@gmail.com    560085   kumar\n",
      "0      lalan     rrrlalan@gmail.com    825103   kumar\n",
      "1   shashank       shasha@gmail.com    152354  pandit\n",
      "2      guddu          abc@gmail.com    123456   kumar\n",
      "3  sudhanshu  sskumar9876@gmail.com    560085   kumar\n"
     ]
    }
   ],
   "source": [
    "df1 = df2 = df\n",
    "df_new0 = pd.concat([df1, df2], axis=0)\n",
    "print(df1,\"\\n\\n\", df2,\"\\n\\n\", df_new0)"
   ]
  },
  {
   "cell_type": "code",
   "execution_count": 83,
   "id": "bc816f32",
   "metadata": {},
   "outputs": [
    {
     "name": "stdout",
     "output_type": "stream",
     "text": [
      "        name                emailid  pin code sirname\n",
      "0      lalan     rrrlalan@gmail.com    825103   kumar\n",
      "1   shashank       shasha@gmail.com    152354  pandit\n",
      "2      guddu          abc@gmail.com    123456   kumar\n",
      "3  sudhanshu  sskumar9876@gmail.com    560085   kumar \n",
      "\n",
      "         name                emailid  pin code sirname\n",
      "0      lalan     rrrlalan@gmail.com    825103   kumar\n",
      "1   shashank       shasha@gmail.com    152354  pandit\n",
      "2      guddu          abc@gmail.com    123456   kumar\n",
      "3  sudhanshu  sskumar9876@gmail.com    560085   kumar \n",
      "\n",
      "         name                emailid  pin code sirname       name  \\\n",
      "0      lalan     rrrlalan@gmail.com    825103   kumar      lalan   \n",
      "1   shashank       shasha@gmail.com    152354  pandit   shashank   \n",
      "2      guddu          abc@gmail.com    123456   kumar      guddu   \n",
      "3  sudhanshu  sskumar9876@gmail.com    560085   kumar  sudhanshu   \n",
      "\n",
      "                 emailid  pin code sirname  \n",
      "0     rrrlalan@gmail.com    825103   kumar  \n",
      "1       shasha@gmail.com    152354  pandit  \n",
      "2          abc@gmail.com    123456   kumar  \n",
      "3  sskumar9876@gmail.com    560085   kumar  \n"
     ]
    }
   ],
   "source": [
    "df_new1 = pd.concat([df1, df2], axis=1)\n",
    "print(df1,\"\\n\\n\", df2,\"\\n\\n\", df_new1)"
   ]
  },
  {
   "cell_type": "markdown",
   "id": "6766daa5",
   "metadata": {},
   "source": [
    "# Q10. How do you merge two Pandas DataFrames on a specific column?"
   ]
  },
  {
   "cell_type": "code",
   "execution_count": 84,
   "id": "728b0014",
   "metadata": {},
   "outputs": [
    {
     "name": "stdout",
     "output_type": "stream",
     "text": [
      "    Name  Marks\n",
      "0   Raju     80\n",
      "1   Rani     90\n",
      "2  Geeta     75\n",
      "3   Sita     88\n",
      "4  Sohit     59\n",
      "    Name Grade  Rank  Gender\n",
      "0   Raju     A     3    Male\n",
      "1  Divya     A     1  Female\n",
      "2  Geeta     B     4  Female\n",
      "3   Sita     A     2  Female\n",
      "    Name  Marks Grade  Rank  Gender\n",
      "0   Raju     80     A   3.0    Male\n",
      "1   Rani     90   NaN   NaN     NaN\n",
      "2  Geeta     75     B   4.0  Female\n",
      "3   Sita     88     A   2.0  Female\n",
      "4  Sohit     59   NaN   NaN     NaN\n"
     ]
    }
   ],
   "source": [
    "df1 = pd.DataFrame({'Name':['Raju', 'Rani', 'Geeta', 'Sita', 'Sohit'],'Marks':[80, 90, 75, 88, 59]})\n",
    "df2 = pd.DataFrame({'Name':['Raju', 'Divya', 'Geeta', 'Sita'],'Grade':['A', 'A', 'B', 'A'],'Rank':[3, 1, 4, 2 ],\n",
    "                    'Gender':['Male', 'Female', 'Female', 'Female']})\n",
    "dfm = df1.merge(df2, on = 'Name', how = 'left')\n",
    "print(df1)\n",
    "print(df2)\n",
    "print(dfm)"
   ]
  },
  {
   "cell_type": "markdown",
   "id": "1b7007ab",
   "metadata": {},
   "source": [
    "# Q11. How do you group data in a Pandas DataFrame by a specific column and apply an aggregation function?"
   ]
  },
  {
   "cell_type": "code",
   "execution_count": 85,
   "id": "32a7725d",
   "metadata": {},
   "outputs": [
    {
     "name": "stdout",
     "output_type": "stream",
     "text": [
      "        name                emailid  pin code sirname\n",
      "0      lalan     rrrlalan@gmail.com    825103   kumar\n",
      "1   shashank       shasha@gmail.com    152354  pandit\n",
      "2      guddu          abc@gmail.com    123456   kumar\n",
      "3  sudhanshu  sskumar9876@gmail.com    560085   kumar\n",
      "\n",
      "             name             emailid  pin code\n",
      "sirname                                        \n",
      "kumar       lalan  rrrlalan@gmail.com    825103\n",
      "pandit   shashank    shasha@gmail.com    152354\n",
      "\n",
      "sirname\n",
      "kumar     1508644\n",
      "pandit     152354\n",
      "Name: pin code, dtype: int64\n"
     ]
    }
   ],
   "source": [
    "print(df)\n",
    "df_new = df.groupby(\"sirname\")\n",
    "print()\n",
    "print(df_new.first())\n",
    "df_new = df.groupby(\"sirname\")[\"pin code\"].sum()\n",
    "print()\n",
    "print(df_new)"
   ]
  },
  {
   "cell_type": "markdown",
   "id": "04e9a07c",
   "metadata": {},
   "source": [
    "# Q12. How do you pivot a Pandas DataFrame?"
   ]
  },
  {
   "cell_type": "code",
   "execution_count": 86,
   "id": "7c6bc859",
   "metadata": {},
   "outputs": [
    {
     "name": "stdout",
     "output_type": "stream",
     "text": [
      "        name                emailid  pin code sirname\n",
      "0      lalan     rrrlalan@gmail.com    825103   kumar\n",
      "1   shashank       shasha@gmail.com    152354  pandit\n",
      "2      guddu          abc@gmail.com    123456   kumar\n",
      "3  sudhanshu  sskumar9876@gmail.com    560085   kumar\n",
      "\n",
      "name        guddu     lalan  shashank  sudhanshu\n",
      "sirname                                         \n",
      "kumar    123456.0  825103.0       NaN   560085.0\n",
      "pandit        NaN       NaN  152354.0        NaN\n"
     ]
    }
   ],
   "source": [
    "print(df)\n",
    "df_p = df.pivot(index=\"sirname\", columns=\"name\", values=\"pin code\")\n",
    "print()\n",
    "print(df_p)"
   ]
  },
  {
   "cell_type": "markdown",
   "id": "06ac301f",
   "metadata": {},
   "source": [
    "# Q13. How do you change the data type of a column in a Pandas DataFrame?"
   ]
  },
  {
   "cell_type": "code",
   "execution_count": 87,
   "id": "b89befd9",
   "metadata": {},
   "outputs": [
    {
     "name": "stdout",
     "output_type": "stream",
     "text": [
      "name        object\n",
      "emailid     object\n",
      "pin code     int64\n",
      "sirname     object\n",
      "dtype: object\n",
      "name         object\n",
      "emailid      object\n",
      "pin code    float64\n",
      "sirname      object\n",
      "dtype: object\n"
     ]
    }
   ],
   "source": [
    "print(df.dtypes)\n",
    "dfn = df.astype({\"pin code\":float})\n",
    "print(dfn.dtypes) # Data type of \"column \"pin code\" changed"
   ]
  },
  {
   "cell_type": "markdown",
   "id": "c51f68ad",
   "metadata": {},
   "source": [
    "# Q14. How do you sort a Pandas DataFrame by a specific column?"
   ]
  },
  {
   "cell_type": "code",
   "execution_count": 88,
   "id": "0ff5dfd3",
   "metadata": {},
   "outputs": [
    {
     "data": {
      "text/html": [
       "<div>\n",
       "<style scoped>\n",
       "    .dataframe tbody tr th:only-of-type {\n",
       "        vertical-align: middle;\n",
       "    }\n",
       "\n",
       "    .dataframe tbody tr th {\n",
       "        vertical-align: top;\n",
       "    }\n",
       "\n",
       "    .dataframe thead th {\n",
       "        text-align: right;\n",
       "    }\n",
       "</style>\n",
       "<table border=\"1\" class=\"dataframe\">\n",
       "  <thead>\n",
       "    <tr style=\"text-align: right;\">\n",
       "      <th></th>\n",
       "      <th>name</th>\n",
       "      <th>emailid</th>\n",
       "      <th>pin code</th>\n",
       "      <th>sirname</th>\n",
       "    </tr>\n",
       "  </thead>\n",
       "  <tbody>\n",
       "    <tr>\n",
       "      <th>2</th>\n",
       "      <td>guddu</td>\n",
       "      <td>abc@gmail.com</td>\n",
       "      <td>123456</td>\n",
       "      <td>kumar</td>\n",
       "    </tr>\n",
       "    <tr>\n",
       "      <th>0</th>\n",
       "      <td>lalan</td>\n",
       "      <td>rrrlalan@gmail.com</td>\n",
       "      <td>825103</td>\n",
       "      <td>kumar</td>\n",
       "    </tr>\n",
       "    <tr>\n",
       "      <th>1</th>\n",
       "      <td>shashank</td>\n",
       "      <td>shasha@gmail.com</td>\n",
       "      <td>152354</td>\n",
       "      <td>pandit</td>\n",
       "    </tr>\n",
       "    <tr>\n",
       "      <th>3</th>\n",
       "      <td>sudhanshu</td>\n",
       "      <td>sskumar9876@gmail.com</td>\n",
       "      <td>560085</td>\n",
       "      <td>kumar</td>\n",
       "    </tr>\n",
       "  </tbody>\n",
       "</table>\n",
       "</div>"
      ],
      "text/plain": [
       "        name                emailid  pin code sirname\n",
       "2      guddu          abc@gmail.com    123456   kumar\n",
       "0      lalan     rrrlalan@gmail.com    825103   kumar\n",
       "1   shashank       shasha@gmail.com    152354  pandit\n",
       "3  sudhanshu  sskumar9876@gmail.com    560085   kumar"
      ]
     },
     "execution_count": 88,
     "metadata": {},
     "output_type": "execute_result"
    }
   ],
   "source": [
    "df.sort_values(by=['name'])"
   ]
  },
  {
   "cell_type": "markdown",
   "id": "4acbe635",
   "metadata": {},
   "source": [
    "# Q15. How do you create a copy of a Pandas DataFrame?"
   ]
  },
  {
   "cell_type": "code",
   "execution_count": 89,
   "id": "f624fa28",
   "metadata": {},
   "outputs": [
    {
     "name": "stdout",
     "output_type": "stream",
     "text": [
      "        name                emailid  pin code sirname\n",
      "0      lalan     rrrlalan@gmail.com    825103   kumar\n",
      "1   shashank       shasha@gmail.com    152354  pandit\n",
      "2      guddu          abc@gmail.com    123456   kumar\n",
      "3  sudhanshu  sskumar9876@gmail.com    560085   kumar\n"
     ]
    }
   ],
   "source": [
    "res = df.copy(deep=True) #After changing the value of original df copied df values wont change\n",
    "print(res)"
   ]
  },
  {
   "cell_type": "markdown",
   "id": "e28c6c9d",
   "metadata": {},
   "source": [
    "# Q16. How do you filter rows of a Pandas DataFrame by multiple conditions?"
   ]
  },
  {
   "cell_type": "code",
   "execution_count": 109,
   "id": "283571b8",
   "metadata": {},
   "outputs": [
    {
     "name": "stdout",
     "output_type": "stream",
     "text": [
      "        name                emailid  pin code sirname\n",
      "0      lalan     rrrlalan@gmail.com    825103   kumar\n",
      "1   shashank       shasha@gmail.com    152354  pandit\n",
      "2      guddu          abc@gmail.com    123456   kumar\n",
      "3  sudhanshu  sskumar9876@gmail.com    560085   kumar \n",
      "\n",
      "\n",
      "    name             emailid  pin code sirname\n",
      "0  lalan  rrrlalan@gmail.com    825103   kumar\n",
      "\n",
      "\n",
      "\n",
      "    name             emailid  pin code sirname\n",
      "0  lalan  rrrlalan@gmail.com    825103   kumar\n",
      "\n",
      "\n",
      "\n",
      "    name             emailid  pin code sirname\n",
      "0  lalan  rrrlalan@gmail.com    825103   kumar\n",
      "\n",
      "\n",
      "\n",
      "    name             emailid  pin code sirname\n",
      "0  lalan  rrrlalan@gmail.com    825103   kumar\n"
     ]
    }
   ],
   "source": [
    "print(df, \"\\n\\n\")\n",
    "print(df[df[\"name\"] == \"lalan\"])\n",
    "print(\"\\n\\n\")\n",
    "print(df[(df[\"name\"] == \"lalan\") & (df[\"sirname\"] == \"kumar\")])\n",
    "print(\"\\n\\n\")\n",
    "print(df[df.eval(\"(name == 'lalan') & (sirname == 'kumar')\")])\n",
    "print(\"\\n\\n\")\n",
    "print(df.query(\"(name == 'lalan') & (sirname == 'kumar')\"))\n",
    "\n",
    "# We can also use df.where() and df.loc() function"
   ]
  },
  {
   "cell_type": "markdown",
   "id": "bcd88fa3",
   "metadata": {},
   "source": [
    "# Q17. How do you calculate the mean of a column in a Pandas DataFrame?"
   ]
  },
  {
   "cell_type": "code",
   "execution_count": 111,
   "id": "44f7114f",
   "metadata": {},
   "outputs": [
    {
     "data": {
      "text/plain": [
       "415249.5"
      ]
     },
     "execution_count": 111,
     "metadata": {},
     "output_type": "execute_result"
    }
   ],
   "source": [
    "df[\"pin code\"].mean()"
   ]
  },
  {
   "cell_type": "markdown",
   "id": "ee5a9895",
   "metadata": {},
   "source": [
    "# Q18. How do you calculate the standard deviation of a column in a Pandas DataFrame?"
   ]
  },
  {
   "cell_type": "code",
   "execution_count": 112,
   "id": "0ab78768",
   "metadata": {},
   "outputs": [
    {
     "data": {
      "text/plain": [
       "338237.9360179261"
      ]
     },
     "execution_count": 112,
     "metadata": {},
     "output_type": "execute_result"
    }
   ],
   "source": [
    "df[\"pin code\"].std()"
   ]
  },
  {
   "cell_type": "markdown",
   "id": "fbce1f9a",
   "metadata": {},
   "source": [
    "# Q19. How do you calculate the correlation between two columns in a Pandas DataFrame?"
   ]
  },
  {
   "cell_type": "code",
   "execution_count": 126,
   "id": "b1e99afe",
   "metadata": {},
   "outputs": [
    {
     "name": "stdout",
     "output_type": "stream",
     "text": [
      "        name                emailid  pin code sirname  pin2\n",
      "0      lalan     rrrlalan@gmail.com    825103   kumar   1.2\n",
      "1   shashank       shasha@gmail.com    152354  pandit   0.0\n",
      "2      guddu          abc@gmail.com    123456   kumar  -0.4\n",
      "3  sudhanshu  sskumar9876@gmail.com    560085   kumar  -2.5\n"
     ]
    },
    {
     "data": {
      "text/plain": [
       "0.15757317609609942"
      ]
     },
     "execution_count": 126,
     "metadata": {},
     "output_type": "execute_result"
    }
   ],
   "source": [
    "df[\"pin2\"] = [1.2, 0, -0.4, -2.5]\n",
    "print(df)\n",
    "df[\"pin code\"].corr(df[\"pin2\"])"
   ]
  },
  {
   "cell_type": "markdown",
   "id": "dc740d3c",
   "metadata": {},
   "source": [
    "# Q20. How do you select specific columns in a DataFrame using their labels?"
   ]
  },
  {
   "cell_type": "code",
   "execution_count": 141,
   "id": "f65be267",
   "metadata": {},
   "outputs": [
    {
     "name": "stdout",
     "output_type": "stream",
     "text": [
      "                 emailid sirname\n",
      "0     rrrlalan@gmail.com   kumar\n",
      "1       shasha@gmail.com  pandit\n",
      "2          abc@gmail.com   kumar\n",
      "3  sskumar9876@gmail.com   kumar \n",
      "\n",
      "\n",
      "        name  pin code  pin2\n",
      "0      lalan    825103   1.2\n",
      "1   shashank    152354   0.0\n",
      "2      guddu    123456  -0.4\n",
      "3  sudhanshu    560085  -2.5\n"
     ]
    }
   ],
   "source": [
    "print(df[[\"emailid\", \"sirname\"]], \"\\n\\n\")\n",
    "print(df[df.columns.difference(['emailid', 'sirname'])]) #gives all the column except mentioned"
   ]
  },
  {
   "cell_type": "markdown",
   "id": "90ee0af5",
   "metadata": {},
   "source": [
    "\n",
    "# Q21. How do you select specific rows in a DataFrame using their indexes?"
   ]
  },
  {
   "cell_type": "code",
   "execution_count": 134,
   "id": "3c7e75f8",
   "metadata": {},
   "outputs": [
    {
     "data": {
      "text/html": [
       "<div>\n",
       "<style scoped>\n",
       "    .dataframe tbody tr th:only-of-type {\n",
       "        vertical-align: middle;\n",
       "    }\n",
       "\n",
       "    .dataframe tbody tr th {\n",
       "        vertical-align: top;\n",
       "    }\n",
       "\n",
       "    .dataframe thead th {\n",
       "        text-align: right;\n",
       "    }\n",
       "</style>\n",
       "<table border=\"1\" class=\"dataframe\">\n",
       "  <thead>\n",
       "    <tr style=\"text-align: right;\">\n",
       "      <th></th>\n",
       "      <th>name</th>\n",
       "      <th>emailid</th>\n",
       "      <th>pin code</th>\n",
       "      <th>sirname</th>\n",
       "      <th>pin2</th>\n",
       "    </tr>\n",
       "  </thead>\n",
       "  <tbody>\n",
       "    <tr>\n",
       "      <th>1</th>\n",
       "      <td>shashank</td>\n",
       "      <td>shasha@gmail.com</td>\n",
       "      <td>152354</td>\n",
       "      <td>pandit</td>\n",
       "      <td>0.0</td>\n",
       "    </tr>\n",
       "    <tr>\n",
       "      <th>3</th>\n",
       "      <td>sudhanshu</td>\n",
       "      <td>sskumar9876@gmail.com</td>\n",
       "      <td>560085</td>\n",
       "      <td>kumar</td>\n",
       "      <td>-2.5</td>\n",
       "    </tr>\n",
       "  </tbody>\n",
       "</table>\n",
       "</div>"
      ],
      "text/plain": [
       "        name                emailid  pin code sirname  pin2\n",
       "1   shashank       shasha@gmail.com    152354  pandit   0.0\n",
       "3  sudhanshu  sskumar9876@gmail.com    560085   kumar  -2.5"
      ]
     },
     "execution_count": 134,
     "metadata": {},
     "output_type": "execute_result"
    }
   ],
   "source": [
    "df.iloc[1::2]"
   ]
  },
  {
   "cell_type": "markdown",
   "id": "081133dc",
   "metadata": {},
   "source": [
    "# Q22. How do you sort a DataFrame by a specific column?"
   ]
  },
  {
   "cell_type": "code",
   "execution_count": 145,
   "id": "b29e3e75",
   "metadata": {},
   "outputs": [
    {
     "data": {
      "text/html": [
       "<div>\n",
       "<style scoped>\n",
       "    .dataframe tbody tr th:only-of-type {\n",
       "        vertical-align: middle;\n",
       "    }\n",
       "\n",
       "    .dataframe tbody tr th {\n",
       "        vertical-align: top;\n",
       "    }\n",
       "\n",
       "    .dataframe thead th {\n",
       "        text-align: right;\n",
       "    }\n",
       "</style>\n",
       "<table border=\"1\" class=\"dataframe\">\n",
       "  <thead>\n",
       "    <tr style=\"text-align: right;\">\n",
       "      <th></th>\n",
       "      <th>name</th>\n",
       "      <th>emailid</th>\n",
       "      <th>pin code</th>\n",
       "      <th>sirname</th>\n",
       "      <th>pin2</th>\n",
       "    </tr>\n",
       "  </thead>\n",
       "  <tbody>\n",
       "    <tr>\n",
       "      <th>3</th>\n",
       "      <td>sudhanshu</td>\n",
       "      <td>sskumar9876@gmail.com</td>\n",
       "      <td>560085</td>\n",
       "      <td>kumar</td>\n",
       "      <td>-2.5</td>\n",
       "    </tr>\n",
       "    <tr>\n",
       "      <th>2</th>\n",
       "      <td>guddu</td>\n",
       "      <td>abc@gmail.com</td>\n",
       "      <td>123456</td>\n",
       "      <td>kumar</td>\n",
       "      <td>-0.4</td>\n",
       "    </tr>\n",
       "    <tr>\n",
       "      <th>1</th>\n",
       "      <td>shashank</td>\n",
       "      <td>shasha@gmail.com</td>\n",
       "      <td>152354</td>\n",
       "      <td>pandit</td>\n",
       "      <td>0.0</td>\n",
       "    </tr>\n",
       "    <tr>\n",
       "      <th>0</th>\n",
       "      <td>lalan</td>\n",
       "      <td>rrrlalan@gmail.com</td>\n",
       "      <td>825103</td>\n",
       "      <td>kumar</td>\n",
       "      <td>1.2</td>\n",
       "    </tr>\n",
       "  </tbody>\n",
       "</table>\n",
       "</div>"
      ],
      "text/plain": [
       "        name                emailid  pin code sirname  pin2\n",
       "3  sudhanshu  sskumar9876@gmail.com    560085   kumar  -2.5\n",
       "2      guddu          abc@gmail.com    123456   kumar  -0.4\n",
       "1   shashank       shasha@gmail.com    152354  pandit   0.0\n",
       "0      lalan     rrrlalan@gmail.com    825103   kumar   1.2"
      ]
     },
     "execution_count": 145,
     "metadata": {},
     "output_type": "execute_result"
    }
   ],
   "source": [
    "df.sort_values(by=[\"pin2\", \"pin code\"], ascending=True)"
   ]
  },
  {
   "cell_type": "markdown",
   "id": "6a2f4342",
   "metadata": {},
   "source": [
    "# Q23. How do you create a new column in a DataFrame based on the values of another column?"
   ]
  },
  {
   "cell_type": "code",
   "execution_count": 147,
   "id": "50be401e",
   "metadata": {},
   "outputs": [
    {
     "data": {
      "text/html": [
       "<div>\n",
       "<style scoped>\n",
       "    .dataframe tbody tr th:only-of-type {\n",
       "        vertical-align: middle;\n",
       "    }\n",
       "\n",
       "    .dataframe tbody tr th {\n",
       "        vertical-align: top;\n",
       "    }\n",
       "\n",
       "    .dataframe thead th {\n",
       "        text-align: right;\n",
       "    }\n",
       "</style>\n",
       "<table border=\"1\" class=\"dataframe\">\n",
       "  <thead>\n",
       "    <tr style=\"text-align: right;\">\n",
       "      <th></th>\n",
       "      <th>name</th>\n",
       "      <th>emailid</th>\n",
       "      <th>pin code</th>\n",
       "      <th>sirname</th>\n",
       "      <th>pin2</th>\n",
       "      <th>Full_Name</th>\n",
       "    </tr>\n",
       "  </thead>\n",
       "  <tbody>\n",
       "    <tr>\n",
       "      <th>0</th>\n",
       "      <td>lalan</td>\n",
       "      <td>rrrlalan@gmail.com</td>\n",
       "      <td>825103</td>\n",
       "      <td>kumar</td>\n",
       "      <td>1.2</td>\n",
       "      <td>lalan kumar</td>\n",
       "    </tr>\n",
       "    <tr>\n",
       "      <th>1</th>\n",
       "      <td>shashank</td>\n",
       "      <td>shasha@gmail.com</td>\n",
       "      <td>152354</td>\n",
       "      <td>pandit</td>\n",
       "      <td>0.0</td>\n",
       "      <td>shashank pandit</td>\n",
       "    </tr>\n",
       "    <tr>\n",
       "      <th>2</th>\n",
       "      <td>guddu</td>\n",
       "      <td>abc@gmail.com</td>\n",
       "      <td>123456</td>\n",
       "      <td>kumar</td>\n",
       "      <td>-0.4</td>\n",
       "      <td>guddu kumar</td>\n",
       "    </tr>\n",
       "    <tr>\n",
       "      <th>3</th>\n",
       "      <td>sudhanshu</td>\n",
       "      <td>sskumar9876@gmail.com</td>\n",
       "      <td>560085</td>\n",
       "      <td>kumar</td>\n",
       "      <td>-2.5</td>\n",
       "      <td>sudhanshu kumar</td>\n",
       "    </tr>\n",
       "  </tbody>\n",
       "</table>\n",
       "</div>"
      ],
      "text/plain": [
       "        name                emailid  pin code sirname  pin2        Full_Name\n",
       "0      lalan     rrrlalan@gmail.com    825103   kumar   1.2      lalan kumar\n",
       "1   shashank       shasha@gmail.com    152354  pandit   0.0  shashank pandit\n",
       "2      guddu          abc@gmail.com    123456   kumar  -0.4      guddu kumar\n",
       "3  sudhanshu  sskumar9876@gmail.com    560085   kumar  -2.5  sudhanshu kumar"
      ]
     },
     "execution_count": 147,
     "metadata": {},
     "output_type": "execute_result"
    }
   ],
   "source": [
    "df[\"Full_Name\"] = df[\"name\"] + \" \" + df[\"sirname\"]\n",
    "df"
   ]
  },
  {
   "cell_type": "markdown",
   "id": "87de8321",
   "metadata": {},
   "source": [
    "# Q24. How do you remove duplicates from a DataFrame?"
   ]
  },
  {
   "cell_type": "code",
   "execution_count": 153,
   "id": "94aeccc6",
   "metadata": {},
   "outputs": [
    {
     "data": {
      "text/html": [
       "<div>\n",
       "<style scoped>\n",
       "    .dataframe tbody tr th:only-of-type {\n",
       "        vertical-align: middle;\n",
       "    }\n",
       "\n",
       "    .dataframe tbody tr th {\n",
       "        vertical-align: top;\n",
       "    }\n",
       "\n",
       "    .dataframe thead th {\n",
       "        text-align: right;\n",
       "    }\n",
       "</style>\n",
       "<table border=\"1\" class=\"dataframe\">\n",
       "  <thead>\n",
       "    <tr style=\"text-align: right;\">\n",
       "      <th></th>\n",
       "      <th>name</th>\n",
       "      <th>emailid</th>\n",
       "      <th>pin code</th>\n",
       "      <th>sirname</th>\n",
       "      <th>pin2</th>\n",
       "      <th>Full_Name</th>\n",
       "    </tr>\n",
       "  </thead>\n",
       "  <tbody>\n",
       "    <tr>\n",
       "      <th>0</th>\n",
       "      <td>lalan</td>\n",
       "      <td>rrrlalan@gmail.com</td>\n",
       "      <td>825103</td>\n",
       "      <td>kumar</td>\n",
       "      <td>1.2</td>\n",
       "      <td>lalan kumar</td>\n",
       "    </tr>\n",
       "    <tr>\n",
       "      <th>1</th>\n",
       "      <td>shashank</td>\n",
       "      <td>shasha@gmail.com</td>\n",
       "      <td>152354</td>\n",
       "      <td>pandit</td>\n",
       "      <td>0.0</td>\n",
       "      <td>shashank pandit</td>\n",
       "    </tr>\n",
       "  </tbody>\n",
       "</table>\n",
       "</div>"
      ],
      "text/plain": [
       "       name             emailid  pin code sirname  pin2        Full_Name\n",
       "0     lalan  rrrlalan@gmail.com    825103   kumar   1.2      lalan kumar\n",
       "1  shashank    shasha@gmail.com    152354  pandit   0.0  shashank pandit"
      ]
     },
     "execution_count": 153,
     "metadata": {},
     "output_type": "execute_result"
    }
   ],
   "source": [
    "res = df.sort_values(by=\"sirname\", ascending=True)\n",
    "res.drop_duplicates(subset=\"sirname\", keep=\"first\", inplace=True)\n",
    "res"
   ]
  },
  {
   "cell_type": "markdown",
   "id": "5e024a7b",
   "metadata": {},
   "source": [
    "# Q25. What is the difference between .loc and .iloc in Pandas?"
   ]
  },
  {
   "cell_type": "code",
   "execution_count": 169,
   "id": "73f663d5",
   "metadata": {},
   "outputs": [
    {
     "name": "stdout",
     "output_type": "stream",
     "text": [
      "        name                emailid  pin code sirname  pin2        Full_Name\n",
      "0      lalan     rrrlalan@gmail.com    825103   kumar   1.2      lalan kumar\n",
      "1   shashank       shasha@gmail.com    152354  pandit   0.0  shashank pandit\n",
      "2      guddu          abc@gmail.com    123456   kumar  -0.4      guddu kumar\n",
      "3  sudhanshu  sskumar9876@gmail.com    560085   kumar  -2.5  sudhanshu kumar \n",
      "\n",
      "   pin2        Full_Name\n",
      "2  -0.4      guddu kumar\n",
      "3  -2.5  sudhanshu kumar \n",
      "\n",
      "   pin2        Full_Name\n",
      "0   1.2      lalan kumar\n",
      "1   0.0  shashank pandit\n",
      "2  -0.4      guddu kumar\n",
      "3  -2.5  sudhanshu kumar\n"
     ]
    }
   ],
   "source": [
    "print(df, \"\\n\")\n",
    "print(df.iloc[2:, 4:], \"\\n\") #We use index number\n",
    "print(df.loc[\"0\":, \"pin2\":]) #We use column name and row name"
   ]
  },
  {
   "cell_type": "markdown",
   "id": "696ce4e6",
   "metadata": {},
   "source": [
    "The loc() function is label based data selecting method which means that we have to pass the name of the row or column which we want to select. This method includes the last element of the range passed in it, unlike iloc(). loc() can accept the boolean data unlike iloc(). Many operations can be performed using the loc() method.\n",
    "\n",
    "The iloc() function is an indexed-based selecting method which means that we have to pass an integer index in the method to select a specific row/column. This method does not include the last element of the range passed in it unlike loc(). iloc() does not accept the boolean data unlike loc()."
   ]
  },
  {
   "cell_type": "code",
   "execution_count": null,
   "id": "0c761c62",
   "metadata": {},
   "outputs": [],
   "source": []
  }
 ],
 "metadata": {
  "kernelspec": {
   "display_name": "Python 3 (ipykernel)",
   "language": "python",
   "name": "python3"
  },
  "language_info": {
   "codemirror_mode": {
    "name": "ipython",
    "version": 3
   },
   "file_extension": ".py",
   "mimetype": "text/x-python",
   "name": "python",
   "nbconvert_exporter": "python",
   "pygments_lexer": "ipython3",
   "version": "3.9.13"
  }
 },
 "nbformat": 4,
 "nbformat_minor": 5
}
