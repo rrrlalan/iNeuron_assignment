{
 "cells": [
  {
   "cell_type": "markdown",
   "id": "dbbce477",
   "metadata": {},
   "source": [
    "## 1. What is the definition of Hive? What is the present version of Hive? "
   ]
  },
  {
   "cell_type": "markdown",
   "id": "1e7392d0",
   "metadata": {},
   "source": [
    "Ans: Hive is a Data Warehouse system which is used to analyze the structured data and build on top of Hadoop. \n",
    "Hive mainly used to manage the data using SQL queries named as HQL ( Hive query language). It's main functionalities includes reading, writing and managing large datasets residing in distributed storage. \n",
    "Using Hive, we can skip the requirement of the traditional approach of writing complex MapReduce programs. Hive supports, DDL,DML and User defined functions."
   ]
  },
  {
   "cell_type": "code",
   "execution_count": 2,
   "id": "66087381",
   "metadata": {},
   "outputs": [
    {
     "data": {
      "text/plain": [
       "'Version -- Apache hive 3.1.2 ( released on april 2022 )'"
      ]
     },
     "execution_count": 2,
     "metadata": {},
     "output_type": "execute_result"
    }
   ],
   "source": [
    "\"\"\"Version -- Apache hive 3.1.2 ( released on april 2022 )\"\"\""
   ]
  },
  {
   "cell_type": "markdown",
   "id": "d612ff49",
   "metadata": {},
   "source": [
    "## 2. Is Hive suitable to be used for OLTP systems? Why?"
   ]
  },
  {
   "cell_type": "markdown",
   "id": "65780d15",
   "metadata": {},
   "source": [
    "Ans; No, hive does not support insert and update at row level. So it does not support OLTP system. "
   ]
  },
  {
   "cell_type": "markdown",
   "id": "7bae3b47",
   "metadata": {},
   "source": [
    "## 3. How is HIVE different from RDBMS? Does hive support ACID transactions. If not then give the proper reason."
   ]
  },
  {
   "cell_type": "markdown",
   "id": "2f6db0ee",
   "metadata": {},
   "source": [
    "RDBMS is a subset of DBMS. A relational database refers to a database that stores data in a structured format using rows and columns and that structured form is known as table.\n",
    "Hive is a data warehouse software system that provides data query and analysis. \n",
    "RDBMS used to maintain databases and hive used to maintain the warehouses. Schema is fixed in RDBMS and schema will vary in Hive.\n",
    "\n",
    "Hive supports all ACID properties which enable atomicity of operations at the row level, which allows a Hive client to read from a partition or table and simultaneously, another Hive client can add rows to the same partition or table.\n"
   ]
  },
  {
   "cell_type": "code",
   "execution_count": null,
   "id": "4c509403",
   "metadata": {},
   "outputs": [],
   "source": []
  }
 ],
 "metadata": {
  "kernelspec": {
   "display_name": "Python 3 (ipykernel)",
   "language": "python",
   "name": "python3"
  },
  "language_info": {
   "codemirror_mode": {
    "name": "ipython",
    "version": 3
   },
   "file_extension": ".py",
   "mimetype": "text/x-python",
   "name": "python",
   "nbconvert_exporter": "python",
   "pygments_lexer": "ipython3",
   "version": "3.9.13"
  }
 },
 "nbformat": 4,
 "nbformat_minor": 5
}
