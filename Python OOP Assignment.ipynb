{
 "cells": [
  {
   "cell_type": "markdown",
   "id": "f79e66bc",
   "metadata": {},
   "source": [
    "# Python OOP Assignment\n",
    "Q1. What is the purpose of Python's OOP?\n",
    "\n",
    "Q2. Where does an inheritance search look for an attribute?\n",
    "\n",
    "Q3. How do you distinguish between a class object and an instance object?\n",
    "\n",
    "Q4. What makes the first argument in a class’s method function special?\n",
    "\n",
    "Q5. What is the purpose of the init method?\n",
    "\n",
    "Q6. What is the process for creating a class instance?\n",
    "\n",
    "Q7. What is the process for creating a class?\n",
    "\n",
    "Q8. How would you define the superclasses of a class?\n",
    "\n",
    "Q9. What is the relationship between classes and modules?\n",
    "\n",
    "Q10. How do you make instances and classes?\n",
    "\n",
    "Q11. Where and how should be class attributes created?\n",
    "\n",
    "Q12. Where and how are instance attributes created?\n",
    "\n",
    "Q13. What does the term \"self\" in a Python class mean?\n",
    "\n",
    "Q14. How does a Python class handle operator overloading?\n",
    "\n",
    "Q15. When do you consider allowing operator overloading of your classes?\n",
    "\n",
    "Q16. What is the most popular form of operator overloading?\n",
    "\n",
    "Q17. What are the two most important concepts to grasp in order to comprehend Python OOP code?\n",
    "\n",
    "Q18. Describe three applications for exception processing.\n",
    "\n",
    "Q19. What happens if you don't do something extra to treat an exception?\n",
    "\n",
    "Q20. What are your options for recovering from an exception in your script?\n",
    "\n",
    "Q21. Describe two methods for triggering exceptions in your script.\n",
    "\n",
    "Q22. Identify two methods for specifying actions to be executed at termination time, regardless of whether or not an exception exists.\n",
    "\n",
    "Q23. What is the purpose of the try statement?\n",
    "\n",
    "Q24. What are the two most popular try statement variations?\n",
    "\n",
    "Q25. What is the purpose of the raise statement?\n",
    "\n",
    "Q26. What does the assert statement do, and what other statement is it like?\n",
    "\n",
    "Q27. What is the purpose of the with/as argument, and what other statement is it like?\n",
    "\n",
    "Q28. What are *args, **kwargs?\n",
    "\n",
    "Q29. How can I pass optional or keyword parameters from one function to another?\n",
    "\n",
    "Q30. What are Lambda Functions?\n",
    "\n",
    "Q31. Explain Inheritance in Python with an example?\n",
    "\n",
    "Q32. Suppose class C inherits from classes A and B as class C(A,B).Classes A and B both have their own versions of method func(). If we call func() from an object of class C, which version gets invoked?\n",
    "\n",
    "Q33. Which methods/functions do we use to determine the type of instance and inheritance?\n",
    "\n",
    "Q34.Explain the use of the 'nonlocal' keyword in Python.\n",
    "\n",
    "Q35. What is the global keyword?"
   ]
  },
  {
   "cell_type": "markdown",
   "id": "77bbe419",
   "metadata": {},
   "source": [
    "# Q1. What is the purpose of Python's OOP?"
   ]
  },
  {
   "cell_type": "markdown",
   "id": "6a7d3af7",
   "metadata": {},
   "source": [
    "Ans:-\n",
    "\n",
    "OOPs stand for Object Oriented programming in which programs are written in such a way that it can represent a real-world entity so that we can think not as a peace of code instead we can think as an object state of its field and object behaviour of its function. It mainly works on Class, Object, Polymorphism, Abstraction, Encapsulation and Inheritance. Its aim is to bind together the data and functions to operate on them.\n",
    "\n",
    "There are many benefits of using OOPs concepts.\n",
    "\n",
    "•\tOOP language allows to break the program into the small-small problems that can be solved easily.\n",
    "\n",
    "•\tIt`s provide better programming productivity, better quality of software and least maintenance cost.\n",
    "\n",
    "•\tOOPs system can easily scale from small to large system.\n",
    "\n",
    "•\tThe principle of data hiding helps the programmer to build secure programs which cannot be invaded by the code in otherparts of the program.\n",
    "\n",
    "•\tBy using inheritance, we can eliminate redundant code and extend the use of existing classes.\n",
    "\n",
    "•\tIt is possible that multiple instances of objects co-exist without any interference,\n"
   ]
  },
  {
   "cell_type": "markdown",
   "id": "f09de1e2",
   "metadata": {},
   "source": [
    "# Q2. Where does an inheritance search look for an attribute?"
   ]
  },
  {
   "cell_type": "markdown",
   "id": "ce790b29",
   "metadata": {},
   "source": [
    "Ans:-\n",
    "\n",
    "An inheritance search looks for an attribute first in the instance object, then in the class the instance was created from, then in all higher superclasses, progressing from left to right (by default). The search stops at the first place the attribute is found."
   ]
  },
  {
   "cell_type": "markdown",
   "id": "806cafee",
   "metadata": {},
   "source": [
    "# Q3. How do you distinguish between a class object and an instance object?"
   ]
  },
  {
   "cell_type": "markdown",
   "id": "44841636",
   "metadata": {},
   "source": [
    "Ans:-\n",
    "\n",
    "Key Difference between Class and Object\n",
    "\n",
    "A class is a template for creating objects in a program, whereas the object is an instance of a class.\n",
    "\n",
    "A class is a logical entity, while an object is a physical entity.\n",
    "\n",
    "A class does not allocate memory space; on the other hand, an object allocates memory space.\n",
    "\n",
    "You can declare a class only once, but you can create more than one object using a class.\n",
    "\n",
    "Classes can’t be manipulated, while objects can be manipulated.\n",
    "\n",
    "Classes don’t have any values, whereas objects have their own values.\n",
    "\n",
    "You can create a class using “class” keyword, On the other hand you can create an object by initializing class.\n"
   ]
  },
  {
   "cell_type": "markdown",
   "id": "d9001701",
   "metadata": {},
   "source": [
    "# Q4. What makes the first argument in a class’s method function special?"
   ]
  },
  {
   "cell_type": "markdown",
   "id": "c4d0039a",
   "metadata": {},
   "source": [
    "Ans:-\n",
    "The very first argument in a class method is a pointer variable. We generally use self keyword to represent it but we can use any other variable name. self(first argument) basically bind attributes and methods with class instances so that we can access it using class instances.\n",
    "\n",
    "The reason you need to use self. is because Python does not use special syntax to refer to instance attributes. Python decided to do methods in a way that makes the instance to which the method belongs be passed automatically, but not received automatically: the first parameter of methods is the instance the method is called on. That makes methods entirely the same as functions, and leaves the actual name to use up to you\n"
   ]
  },
  {
   "cell_type": "markdown",
   "id": "03521832",
   "metadata": {},
   "source": [
    "# Q5. What is the purpose of the init method?"
   ]
  },
  {
   "cell_type": "markdown",
   "id": "38336762",
   "metadata": {},
   "source": [
    "Ans:-\n",
    "\n",
    "The __init__ method is a reserved method in python lets the class initialize the object's attributes. It is only used within classes. On the other hand we can call it as a constructor which is used to initialize the objects."
   ]
  },
  {
   "cell_type": "markdown",
   "id": "ae9bb1e2",
   "metadata": {},
   "source": [
    "# Q6. What is the process for creating a class instance?"
   ]
  },
  {
   "cell_type": "code",
   "execution_count": 127,
   "id": "8d05d8c1",
   "metadata": {},
   "outputs": [
    {
     "name": "stdout",
     "output_type": "stream",
     "text": [
      "Name : Sunny , Salary: 122000\n"
     ]
    }
   ],
   "source": [
    "\"\"\"Ans:-\n",
    "\n",
    "To create instances of a class, you call the class using class name and pass in whatever arguments its __init__ method accepts.\n",
    "\n",
    "Example :-\n",
    "\"\"\"\n",
    "class Employee:\n",
    "   def __init__(self, name, salary):\n",
    "      self.name = name\n",
    "      self.salary = salary\n",
    "   def displayEmployee(self):\n",
    "        print(\"Name :\", self.name,  \", Salary:\", self.salary)\n",
    "emp1 = Employee(\"Sunny\", 122000)\n",
    "emp1.displayEmployee()"
   ]
  },
  {
   "cell_type": "markdown",
   "id": "a014eba3",
   "metadata": {},
   "source": [
    "# Q7. What is the process for creating a class?"
   ]
  },
  {
   "cell_type": "code",
   "execution_count": 128,
   "id": "796d3fe4",
   "metadata": {},
   "outputs": [
    {
     "name": "stdout",
     "output_type": "stream",
     "text": [
      "Name : Sunny , Salary: 122000\n"
     ]
    }
   ],
   "source": [
    "\"\"\"Ans:-\n",
    "To define a class, use the class keyword, then give your class a name. Then give a :, following indentition rule \n",
    "write the body of the class. The body consists of the variables, __init(self, ... ) a special method, and functions\n",
    "you want inside the class.\"\"\"\n",
    "class Employee: # class keyward, class name, :\n",
    "   def __init__(self, name, salary): # a special method used to initialize the variables\n",
    "      self.name = name # instance variable\n",
    "      self.salary = salary # instance variable\n",
    "   def displayEmployee(self): # class method(Very first argument is a pointer)\n",
    "        print(\"Name :\", self.name,  \", Salary:\", self.salary) # method body\n",
    "emp1 = Employee(\"Sunny\", 122000) # instance of the class (a real world entity)\n",
    "emp1.displayEmployee() # calling a method of the object"
   ]
  },
  {
   "cell_type": "markdown",
   "id": "7d087ec0",
   "metadata": {},
   "source": [
    "# Q8. How would you define the superclasses of a class?"
   ]
  },
  {
   "cell_type": "code",
   "execution_count": 129,
   "id": "24bc63a4",
   "metadata": {},
   "outputs": [
    {
     "name": "stdout",
     "output_type": "stream",
     "text": [
      "1\n",
      "True\n",
      "True\n"
     ]
    }
   ],
   "source": [
    "\"\"\"A superclass is the class from which many subclasses can be created. The subclasses inherit the characteristics of a \n",
    "superclass. The superclass is also known as the parent class or base class.\"\"\"\n",
    "class Person:\n",
    "    def __init__(a, name, surname, year_of_birth): # we can give whichever name we can give instead of self\n",
    "        a.__name = name # __ double underscore means private members of a class\n",
    "        a.__surname = surname\n",
    "        a.__year_of_birth = year_of_birth\n",
    "    \n",
    "    def age(self, current_year):\n",
    "        return current_year - self.__year_of_birth\n",
    "    \n",
    "    def __str__(self):\n",
    "        return \"%s %s and was born %d.\" \\\n",
    "                % (self.__name, self.__surname, self.__year_of_birth)\n",
    "class Student(Person):\n",
    "    def __init__(self, student_id, *args):\n",
    "        super(Student, self).__init__(*args)\n",
    "        self._student_id = student_id\n",
    "        \n",
    "charlie = Student(1, 'Charlie', 'Brown', 2006)\n",
    "print(charlie._student_id)\n",
    "print(isinstance(charlie, Person))\n",
    "print(isinstance(charlie, object))"
   ]
  },
  {
   "cell_type": "markdown",
   "id": "a2e82340",
   "metadata": {},
   "source": [
    "# Q9. What is the relationship between classes and modules?"
   ]
  },
  {
   "cell_type": "code",
   "execution_count": 130,
   "id": "bbc8eba7",
   "metadata": {},
   "outputs": [
    {
     "name": "stdout",
     "output_type": "stream",
     "text": [
      "<class 'module'>\n"
     ]
    },
    {
     "data": {
      "text/plain": [
       "0.0"
      ]
     },
     "execution_count": 130,
     "metadata": {},
     "output_type": "execute_result"
    }
   ],
   "source": [
    "\"\"\"Ans:-\n",
    "So a module in python is simply a way to organize the code, and it contains either python classes or just functions. If you \n",
    "need those classes or functions in your project, you just import them. For instance, the math module in python contains just \n",
    "a bunch of functions, and you just call those needed (math.sin).\"\"\"\n",
    "\n",
    "import math # importing a math module \n",
    "print(type(math)) \n",
    "math.sin(0) # accessing sin function from math module"
   ]
  },
  {
   "cell_type": "markdown",
   "id": "cf66b9a7",
   "metadata": {},
   "source": [
    "# Q10. How do you make instances and classes?"
   ]
  },
  {
   "cell_type": "markdown",
   "id": "27e01811",
   "metadata": {},
   "source": [
    "To create instances of a class, you call the class using class name and pass in whatever arguments its __init__ method accepts."
   ]
  },
  {
   "cell_type": "markdown",
   "id": "edc75f17",
   "metadata": {},
   "source": [
    "# Q11. Where and how should be class attributes created?"
   ]
  },
  {
   "cell_type": "code",
   "execution_count": 131,
   "id": "fe51a567",
   "metadata": {},
   "outputs": [
    {
     "data": {
      "text/plain": [
       "12.56636"
      ]
     },
     "execution_count": 131,
     "metadata": {},
     "output_type": "execute_result"
    }
   ],
   "source": [
    "\"\"\"To create a class attribute, we place it outside of the __init__() method.\n",
    "\"\"\"\n",
    "class Circle:\n",
    "    pi = 3.14159 # Class attributes\n",
    "    def __init__(self, radius):\n",
    "        self.radius = radius # instance attributes\n",
    "    def area(self):\n",
    "        return self.pi * self.radius**2\n",
    "c1 = Circle(2)\n",
    "c1.area()"
   ]
  },
  {
   "cell_type": "markdown",
   "id": "254141c8",
   "metadata": {},
   "source": [
    "# Q12. Where and how are instance attributes created?"
   ]
  },
  {
   "cell_type": "code",
   "execution_count": 132,
   "id": "c3d38e3f",
   "metadata": {},
   "outputs": [
    {
     "data": {
      "text/plain": [
       "12.56636"
      ]
     },
     "execution_count": 132,
     "metadata": {},
     "output_type": "execute_result"
    }
   ],
   "source": [
    "\"\"\"To create a instance attribute, we place it inside of the __init__() method.\n",
    "\"\"\"\n",
    "class Circle:\n",
    "    pi = 3.14159 # Class attributes\n",
    "    def __init__(self, radius):\n",
    "        self.radius = radius # instance attributes\n",
    "    def area(self):\n",
    "        return self.pi * self.radius**2\n",
    "c1 = Circle(2)\n",
    "c1.area()"
   ]
  },
  {
   "cell_type": "markdown",
   "id": "3df3004c",
   "metadata": {},
   "source": [
    "# Q13. What does the term \"self\" in a Python class mean?"
   ]
  },
  {
   "cell_type": "code",
   "execution_count": 133,
   "id": "838ab784",
   "metadata": {},
   "outputs": [
    {
     "data": {
      "text/plain": [
       "12.56636"
      ]
     },
     "execution_count": 133,
     "metadata": {},
     "output_type": "execute_result"
    }
   ],
   "source": [
    "# Ans:-\n",
    "# The self parameter is a reference to the current instance of the class, and is used to access variables that belongs to \n",
    "# the class.\n",
    "class Circle:\n",
    "    pi = 3.14159 # Class attributes\n",
    "    def __init__(self, radius):\n",
    "        self.radius = radius # instance attributes\n",
    "    def area(self):\n",
    "        return self.pi * self.radius**2\n",
    "c1 = Circle(2)\n",
    "c1.area()"
   ]
  },
  {
   "cell_type": "markdown",
   "id": "b2dd4500",
   "metadata": {},
   "source": [
    "# Q14. How does a Python class handle operator overloading?"
   ]
  },
  {
   "cell_type": "code",
   "execution_count": 134,
   "id": "93249a66",
   "metadata": {},
   "outputs": [
    {
     "name": "stdout",
     "output_type": "stream",
     "text": [
      "46\n",
      "Hello Python !\n",
      "322\n",
      "X Y Z X Y Z X Y Z \n"
     ]
    }
   ],
   "source": [
    "\"\"\"Ans:-\n",
    "The operator overloading in Python means provide extended meaning beyond their predefined operational meaning. Such as, \n",
    "we use the \"+\" operator for adding two integers as well as joining two strings or merging two lists. We can achieve this as \n",
    "the \"+\" operator is overloaded by the \"int\" class and \"str\" class.\"\"\"\n",
    "print (14 + 32)    \n",
    "print (\"Hello\" + \" Python !\")\n",
    "print (23 * 14)  \n",
    "print (\"X Y Z \" * 3)  "
   ]
  },
  {
   "cell_type": "markdown",
   "id": "da3b21a2",
   "metadata": {},
   "source": [
    "# Q15. When do you consider allowing operator overloading of your classes?"
   ]
  },
  {
   "cell_type": "markdown",
   "id": "c0df8fdc",
   "metadata": {},
   "source": [
    "Ans :-\n",
    "Operator overloading facilitates the specification of user-defined implementation for operations wherein one or both operands are of user-defined class or structure type. This helps user-defined types to behave much like the fundamental primitive data types. Operator overloading is helpful in cases where the operators used for certain types provide semantics related to the domain context and syntactic support as found in the programming language. It is used for syntactical convenience, readability and maintainability."
   ]
  },
  {
   "cell_type": "markdown",
   "id": "e3b5f2d3",
   "metadata": {},
   "source": [
    "# Q16. What is the most popular form of operator overloading?"
   ]
  },
  {
   "cell_type": "code",
   "execution_count": 135,
   "id": "56b20730",
   "metadata": {},
   "outputs": [
    {
     "name": "stdout",
     "output_type": "stream",
     "text": [
      "46\n",
      "Hello Python !\n",
      "2\n",
      "[1, 2, 3, 1, 5, 7, 8, 9]\n"
     ]
    }
   ],
   "source": [
    "# Ans :-\n",
    "# A very popular and convenient example is the Addition (+) operator. \n",
    "print (14 + 32)\n",
    "print (\"Hello\" + \" Python !\")\n",
    "print(True + False + True)\n",
    "print([1,2,3] + [1, 5, 7,8,9])"
   ]
  },
  {
   "cell_type": "markdown",
   "id": "f8a867dd",
   "metadata": {},
   "source": [
    "# Q17. What are the two most important concepts to grasp in order to comprehend Python OOP code?\n"
   ]
  },
  {
   "cell_type": "markdown",
   "id": "fdbce6ad",
   "metadata": {},
   "source": [
    "Ans:-\n",
    "\n",
    "Inheritance and Polymorphism are the two fundamental concepts of object oriented programming. These concepts help us to grasp in order to comprehend Python OOP code."
   ]
  },
  {
   "cell_type": "markdown",
   "id": "b993f8c5",
   "metadata": {},
   "source": [
    "# Q18. Describe three applications for exception processing."
   ]
  },
  {
   "cell_type": "markdown",
   "id": "043ca0b6",
   "metadata": {},
   "source": [
    "Mapping Error:-\tAn error occurs while mapping incoming data from the request message to the clipboard.\n",
    "\n",
    "Security Error:-\tAuthentication fails.\n",
    "\n",
    "Service Error:-\tA valid instance of the service activity cannot be found."
   ]
  },
  {
   "cell_type": "markdown",
   "id": "20f1b039",
   "metadata": {},
   "source": [
    "# Q19. What happens if you don't do something extra to treat an exception?"
   ]
  },
  {
   "cell_type": "code",
   "execution_count": 136,
   "id": "bb3d54fe",
   "metadata": {},
   "outputs": [
    {
     "ename": "TypeError",
     "evalue": "unsupported operand type(s) for +: 'int' and 'type'",
     "output_type": "error",
     "traceback": [
      "\u001b[1;31m---------------------------------------------------------------------------\u001b[0m",
      "\u001b[1;31mTypeError\u001b[0m                                 Traceback (most recent call last)",
      "\u001b[1;32m~\\AppData\\Local\\Temp\\ipykernel_19224\\2553118363.py\u001b[0m in \u001b[0;36m<module>\u001b[1;34m\u001b[0m\n\u001b[0;32m      1\u001b[0m \u001b[1;31m# Ans :-\u001b[0m\u001b[1;33m\u001b[0m\u001b[1;33m\u001b[0m\u001b[0m\n\u001b[0;32m      2\u001b[0m \u001b[1;31m# Code functionality fail to execute,and program will terminate abrouptly.\u001b[0m\u001b[1;33m\u001b[0m\u001b[1;33m\u001b[0m\u001b[0m\n\u001b[1;32m----> 3\u001b[1;33m \u001b[0mprint\u001b[0m\u001b[1;33m(\u001b[0m\u001b[1;36m1\u001b[0m \u001b[1;33m+\u001b[0m \u001b[0mA\u001b[0m\u001b[1;33m)\u001b[0m \u001b[1;31m# exception haven`t hsndled.\u001b[0m\u001b[1;33m\u001b[0m\u001b[1;33m\u001b[0m\u001b[0m\n\u001b[0m",
      "\u001b[1;31mTypeError\u001b[0m: unsupported operand type(s) for +: 'int' and 'type'"
     ]
    }
   ],
   "source": [
    "# Ans :-\n",
    "# Code functionality fail to execute,and program will terminate abrouptly.\n",
    "print(1 + A) # exception haven`t hsndled."
   ]
  },
  {
   "cell_type": "markdown",
   "id": "4ae74d9a",
   "metadata": {},
   "source": [
    "# Q20. What are your options for recovering from an exception in your script?"
   ]
  },
  {
   "cell_type": "markdown",
   "id": "7b6fdfe0",
   "metadata": {},
   "source": [
    "Ans:-\n",
    "\n",
    "We can provide a generic except clause, which handles any exception. After the except clause(s), we can include an else-clause. The code in the else-block executes if the code in the try: block does not raise an exception. The else-block is a good place for code that does not need the try: block's protection."
   ]
  },
  {
   "cell_type": "markdown",
   "id": "2636a87f",
   "metadata": {},
   "source": [
    "# Q21. Describe two methods for triggering exceptions in your script."
   ]
  },
  {
   "cell_type": "markdown",
   "id": "f5de45cd",
   "metadata": {},
   "source": [
    "Ans:-\n",
    "\n",
    "Two methods to handle Python exceptions:-\n",
    "\n",
    "Try – This method catches the exceptions raised by the program\n",
    "\n",
    "Raise – Triggers an exception manually using custom exceptions"
   ]
  },
  {
   "cell_type": "markdown",
   "id": "fd825e65",
   "metadata": {},
   "source": [
    "# Q22. Identify two methods for specifying actions to be executed at termination time, regardless of whether or not an exception exists."
   ]
  },
  {
   "cell_type": "markdown",
   "id": "e103e1df",
   "metadata": {},
   "source": [
    "Ans :-\n",
    "\n",
    "Finally block always executes irrespective of an exception being thrown or not. The final keyword allows you to create a block of code that follows a try-catch block. Finally, clause is optional. It is intended to define clean-up actions which should be that executed in all conditions."
   ]
  },
  {
   "cell_type": "markdown",
   "id": "0602f4b5",
   "metadata": {},
   "source": [
    "# Q23. What is the purpose of the try statement?"
   ]
  },
  {
   "cell_type": "markdown",
   "id": "ff072413",
   "metadata": {},
   "source": [
    "Ans:-\n",
    "    \n",
    "    The try block lets you test a block of code for errors.\n"
   ]
  },
  {
   "cell_type": "markdown",
   "id": "b4ec78ed",
   "metadata": {},
   "source": [
    "# Q24. What are the two most popular try statement variations?"
   ]
  },
  {
   "cell_type": "code",
   "execution_count": 138,
   "id": "a124a4d8",
   "metadata": {},
   "outputs": [
    {
     "name": "stdout",
     "output_type": "stream",
     "text": [
      "Error Handeled.\n",
      "Enter an int: 57\n",
      "Here is your finally block: \n"
     ]
    }
   ],
   "source": [
    "# Ans:-\n",
    "# try: except: First variance\n",
    "try:\n",
    "   print(1/0)\n",
    "except Exception:\n",
    "   print(\"Error Handeled.\")\n",
    "# try: except: finally:\n",
    "try:\n",
    "    num = int(input(\"Enter an int: \"))\n",
    "except Exception as e:\n",
    "    print(e)\n",
    "finally:\n",
    "    print(\"Here is your finally block: \")"
   ]
  },
  {
   "cell_type": "markdown",
   "id": "c235559e",
   "metadata": {},
   "source": [
    "# Q25. What is the purpose of the raise statement?"
   ]
  },
  {
   "cell_type": "markdown",
   "id": "90a1b223",
   "metadata": {},
   "source": [
    "Python raise Keyword is used to raise exceptions or errors. The raise keyword raises an error and stops the control flow of the program."
   ]
  },
  {
   "cell_type": "markdown",
   "id": "9ec602f4",
   "metadata": {},
   "source": [
    "# Q26. What does the assert statement do, and what other statement is it like?"
   ]
  },
  {
   "cell_type": "code",
   "execution_count": 139,
   "id": "adb648d9",
   "metadata": {},
   "outputs": [
    {
     "ename": "AssertionError",
     "evalue": "x should be 'hello'",
     "output_type": "error",
     "traceback": [
      "\u001b[1;31m---------------------------------------------------------------------------\u001b[0m",
      "\u001b[1;31mAssertionError\u001b[0m                            Traceback (most recent call last)",
      "\u001b[1;32m~\\AppData\\Local\\Temp\\ipykernel_19224\\3184986397.py\u001b[0m in \u001b[0;36m<module>\u001b[1;34m\u001b[0m\n\u001b[0;32m      7\u001b[0m \u001b[0mx\u001b[0m \u001b[1;33m=\u001b[0m \u001b[1;34m\"hello\"\u001b[0m\u001b[1;33m\u001b[0m\u001b[1;33m\u001b[0m\u001b[0m\n\u001b[0;32m      8\u001b[0m \u001b[1;31m#if condition returns False, AssertionError is raised:\u001b[0m\u001b[1;33m\u001b[0m\u001b[1;33m\u001b[0m\u001b[0m\n\u001b[1;32m----> 9\u001b[1;33m \u001b[1;32massert\u001b[0m \u001b[0mx\u001b[0m \u001b[1;33m==\u001b[0m \u001b[1;34m\"goodbye\"\u001b[0m\u001b[1;33m,\u001b[0m \u001b[1;34m\"x should be 'hello'\"\u001b[0m\u001b[1;33m\u001b[0m\u001b[1;33m\u001b[0m\u001b[0m\n\u001b[0m\u001b[0;32m     10\u001b[0m \u001b[1;33m\u001b[0m\u001b[0m\n\u001b[0;32m     11\u001b[0m \u001b[1;33m\u001b[0m\u001b[0m\n",
      "\u001b[1;31mAssertionError\u001b[0m: x should be 'hello'"
     ]
    }
   ],
   "source": [
    "\"\"\"Ans :-\n",
    "The assert keyword is used when debugging code.\n",
    "The assert keyword lets you test if a condition in your code returns True, if not, the program will raise an AssertionError.\n",
    "You can write a message to be written if the code returns False, check the example below.\n",
    "\"\"\"\n",
    "\n",
    "x = \"hello\"\n",
    "#if condition returns False, AssertionError is raised:\n",
    "assert x == \"goodbye\", \"x should be 'hello'\"\n",
    "\n",
    "\n",
    "\"\"\"Other statement like assert is, if statement, block will  be executed if the condition is true\"\"\""
   ]
  },
  {
   "cell_type": "markdown",
   "id": "f24d29b5",
   "metadata": {},
   "source": [
    "# Q27. What is the purpose of the with/as argument, and what other statement is it like?"
   ]
  },
  {
   "cell_type": "code",
   "execution_count": 140,
   "id": "503177ba",
   "metadata": {},
   "outputs": [],
   "source": [
    "\"\"\"Ans:-\n",
    "\n",
    "with statement is used in exception handling to make the code cleaner and much more readable.\n",
    "It simplifies the management of common resources like file streams.\"\"\"\n",
    "\n",
    "#Without with keyword\n",
    "file = open('file_path.txt', 'w')\n",
    "try:\n",
    "    file.write('hello world')\n",
    "finally:\n",
    "    file.close()\n",
    "\n",
    "# With with keyword\n",
    "with open('file_path.txt', 'w') as file:\n",
    "    file.write('hello world !')"
   ]
  },
  {
   "cell_type": "markdown",
   "id": "b25ae161",
   "metadata": {},
   "source": [
    "# Q28. What are args, *kwargs?"
   ]
  },
  {
   "cell_type": "code",
   "execution_count": 141,
   "id": "0210b1a0",
   "metadata": {},
   "outputs": [
    {
     "name": "stdout",
     "output_type": "stream",
     "text": [
      "Hello\n",
      "Welcome\n",
      "to\n",
      "GeeksforGeeks\n",
      "first == Geeks\n",
      "mid == for\n",
      "last == Geeks\n"
     ]
    }
   ],
   "source": [
    "\"\"\"Ans:-\n",
    "\n",
    "*args :- The special syntax *args in function definitions in python is used to pass a variable number of arguments to a \n",
    "function. It is used to pass a non-key worded, variable-length argument list. \n",
    "\n",
    "\n",
    "** kwargs :- The special syntax **kwargs in function definitions in python is used to pass a keyworded, variable-length \n",
    "argument list. We use the name kwargs with the double star. The reason is that the double star allows us to pass \n",
    "through keyword arguments (and any number of them).\"\"\"\n",
    "def myFun(*argv):\n",
    "    for arg in argv:\n",
    "        print(arg)\n",
    "myFun('Hello', 'Welcome', 'to', 'GeeksforGeeks')\n",
    "\n",
    "def myFun(**kwargs):\n",
    "    for key, value in kwargs.items():\n",
    "        print(\"%s == %s\" % (key, value))\n",
    "myFun(first='Geeks', mid='for', last='Geeks')"
   ]
  },
  {
   "cell_type": "markdown",
   "id": "329dd183",
   "metadata": {},
   "source": [
    "# Q29. How can I pass optional or keyword parameters from one function to another?"
   ]
  },
  {
   "cell_type": "code",
   "execution_count": 142,
   "id": "40b57dbe",
   "metadata": {},
   "outputs": [],
   "source": [
    "def add_item(item_name=\"\", quantity=1):\n",
    "    if item_name in shopping_list.keys():\n",
    "        shopping_list[item_name] += quantity\n",
    "    else:\n",
    "        shopping_list[item_name] = quantity"
   ]
  },
  {
   "cell_type": "markdown",
   "id": "3e1f7bfb",
   "metadata": {},
   "source": [
    "Ans :-\n",
    "A type of argument with a default value is a Python optional parameter. A function definition's assignment operator or the Python **kwargs statement can be used to assign an optional argument. Positional and optional arguments are the two sorts of arguments that a Python function can take"
   ]
  },
  {
   "cell_type": "code",
   "execution_count": 143,
   "id": "6b757980",
   "metadata": {},
   "outputs": [
    {
     "name": "stdout",
     "output_type": "stream",
     "text": [
      "5\n",
      "1001\n"
     ]
    }
   ],
   "source": [
    "def function(a, b=999):\n",
    "   return a+b\n",
    "print(function(2, 3))\n",
    "print(function(2))"
   ]
  },
  {
   "cell_type": "markdown",
   "id": "4ebe372f",
   "metadata": {},
   "source": [
    "# Q30. What are Lambda Functions?"
   ]
  },
  {
   "cell_type": "markdown",
   "id": "6b157a96",
   "metadata": {},
   "source": [
    "Ans:-\n",
    "    \n",
    "    Python Lambda Functions are anonymous function means that the function is without a name. A lambda function can take any number of arguments, but can only have one expression"
   ]
  },
  {
   "cell_type": "code",
   "execution_count": 144,
   "id": "dd3176ce",
   "metadata": {},
   "outputs": [
    {
     "name": "stdout",
     "output_type": "stream",
     "text": [
      "30\n"
     ]
    }
   ],
   "source": [
    "x = lambda a, b : a * b\n",
    "print(x(5, 6))"
   ]
  },
  {
   "cell_type": "markdown",
   "id": "7b516d8c",
   "metadata": {},
   "source": [
    "# Q31. Explain Inheritance in Python with an example?"
   ]
  },
  {
   "cell_type": "markdown",
   "id": "6e3597a3",
   "metadata": {},
   "source": [
    "Ans :-\n",
    "It is a mechanism that allows you to create a hierarchy of classes that share a set of properties and methods by deriving a class from another class."
   ]
  },
  {
   "cell_type": "code",
   "execution_count": 145,
   "id": "c9d459da",
   "metadata": {},
   "outputs": [
    {
     "name": "stdout",
     "output_type": "stream",
     "text": [
      "Satyam 102\n"
     ]
    }
   ],
   "source": [
    "class Person(object):\n",
    "   \n",
    "  # Constructor\n",
    "  def __init__(self, name, id):\n",
    "    self.name = name\n",
    "    self.id = id\n",
    " \n",
    "  # To check if this person is an employee\n",
    "  def Display(self):\n",
    "    print(self.name, self.id)\n",
    " \n",
    " \n",
    "# Driver code\n",
    "emp = Person(\"Satyam\", 102) # An Object of Person\n",
    "emp.Display()"
   ]
  },
  {
   "cell_type": "code",
   "execution_count": 146,
   "id": "bc2e88d3",
   "metadata": {},
   "outputs": [
    {
     "name": "stdout",
     "output_type": "stream",
     "text": [
      "Mayank 103\n",
      "Emp class called\n"
     ]
    }
   ],
   "source": [
    "class Emp(Person):\n",
    "   \n",
    "  def Print(self):\n",
    "    print(\"Emp class called\")\n",
    "     \n",
    "Emp_details = Emp(\"Mayank\", 103)\n",
    " \n",
    "# calling parent class function\n",
    "Emp_details.Display()\n",
    " \n",
    "# Calling child class function\n",
    "Emp_details.Print()"
   ]
  },
  {
   "cell_type": "markdown",
   "id": "7504afac",
   "metadata": {},
   "source": [
    "# Q32. Suppose class C inherits from classes A and B as class C(A,B).Classes A and B both have their own versions of method func(). If we call func() from an object of class C, which version gets invoked?"
   ]
  },
  {
   "cell_type": "markdown",
   "id": "3726fa35",
   "metadata": {},
   "source": [
    "func() will be called from that class which is mentioned at the very first place of inheriting class."
   ]
  },
  {
   "cell_type": "code",
   "execution_count": 147,
   "id": "06db273b",
   "metadata": {},
   "outputs": [],
   "source": [
    "class A:\n",
    "    def func(self):\n",
    "        print(\"This is class A func\")\n",
    "class B:\n",
    "    def func(self):\n",
    "        print(\"This is class B func\")\n",
    "class C(A,B):\n",
    "    pass\n",
    "class D(B,A):\n",
    "    pass"
   ]
  },
  {
   "cell_type": "code",
   "execution_count": 148,
   "id": "e50f6930",
   "metadata": {},
   "outputs": [],
   "source": [
    "c = C()\n",
    "d = D()"
   ]
  },
  {
   "cell_type": "code",
   "execution_count": 149,
   "id": "d1612d3c",
   "metadata": {},
   "outputs": [
    {
     "name": "stdout",
     "output_type": "stream",
     "text": [
      "This is class A func\n",
      "This is class B func\n"
     ]
    }
   ],
   "source": [
    "c.func()\n",
    "d.func()"
   ]
  },
  {
   "cell_type": "markdown",
   "id": "60d6da4f",
   "metadata": {},
   "source": [
    "# Q33. Which methods/functions do we use to determine the type of instance and inheritance?"
   ]
  },
  {
   "cell_type": "markdown",
   "id": "a435f1b7",
   "metadata": {},
   "source": [
    "Use isinstance() to check an instance's type: isinstance(obj, int) will be True only if obj.__class__ is int or some class derived from int .\n",
    "\n",
    "\n",
    "Use issubclass() to check class inheritance: issubclass(bool, int) is True since bool is a subclass of int .\n"
   ]
  },
  {
   "cell_type": "code",
   "execution_count": 150,
   "id": "5642e412",
   "metadata": {},
   "outputs": [
    {
     "name": "stdout",
     "output_type": "stream",
     "text": [
      "True\n",
      "True\n",
      "False\n"
     ]
    }
   ],
   "source": [
    "class MyClass(object):\n",
    "  pass\n",
    "class MySubClass(MyClass):\n",
    "  pass\n",
    "print(isinstance(MySubClass, object))\n",
    "print(issubclass(MySubClass, MyClass))\n",
    "print(isinstance(MySubClass, MyClass))"
   ]
  },
  {
   "cell_type": "markdown",
   "id": "0a5232dc",
   "metadata": {},
   "source": [
    "# Q34.Explain the use of the 'nonlocal' keyword in Python."
   ]
  },
  {
   "cell_type": "markdown",
   "id": "16d97fc7",
   "metadata": {},
   "source": [
    "The nonlocal keyword is used to work with variables inside nested functions, where the variable should not belong to the inner function. Use the keyword nonlocal to declare that the variable is not local."
   ]
  },
  {
   "cell_type": "code",
   "execution_count": 151,
   "id": "87345f0e",
   "metadata": {},
   "outputs": [
    {
     "name": "stdout",
     "output_type": "stream",
     "text": [
      "inner: nonlocal\n",
      "outer: nonlocal\n"
     ]
    }
   ],
   "source": [
    "def outer():\n",
    "    x = \"local\"\n",
    "    def inner():\n",
    "        nonlocal x\n",
    "        x = \"nonlocal\"\n",
    "        print(\"inner:\", x)\n",
    "    inner()\n",
    "    print(\"outer:\", x)\n",
    "outer()"
   ]
  },
  {
   "cell_type": "markdown",
   "id": "6a608743",
   "metadata": {},
   "source": [
    "# Q35. What is the global keyword?"
   ]
  },
  {
   "cell_type": "markdown",
   "id": "e2cb270d",
   "metadata": {},
   "source": [
    "In Python, global keyword allows you to modify the variable outside of the current scope. It is used to create a global variable and make changes to the variable in a local context.\n",
    "\n",
    "The basic rules for global keyword in Python are:\n",
    "\n",
    "When we create a variable inside a function, it is local by default.\n",
    "When we define a variable outside of a function, it is global by default. You don't have to use global keyword.\n",
    "We use global keyword to read and write a global variable inside a function.\n",
    "Use of global keyword outside a function has no effect."
   ]
  },
  {
   "cell_type": "code",
   "execution_count": 152,
   "id": "013ce0e5",
   "metadata": {},
   "outputs": [
    {
     "name": "stdout",
     "output_type": "stream",
     "text": [
      "Before calling bar:  20\n",
      "Calling bar now\n",
      "After calling bar:  20\n",
      "x in main:  25\n"
     ]
    }
   ],
   "source": [
    "def foo():\n",
    "    x = 20\n",
    "    def bar():\n",
    "        global x\n",
    "        x = 25\n",
    "    print(\"Before calling bar: \", x)\n",
    "    print(\"Calling bar now\")\n",
    "    bar()\n",
    "    print(\"After calling bar: \", x)\n",
    "foo()\n",
    "print(\"x in main: \", x)"
   ]
  },
  {
   "cell_type": "code",
   "execution_count": null,
   "id": "2179d8fc",
   "metadata": {},
   "outputs": [],
   "source": []
  },
  {
   "cell_type": "code",
   "execution_count": null,
   "id": "4469ee0d",
   "metadata": {},
   "outputs": [],
   "source": []
  }
 ],
 "metadata": {
  "kernelspec": {
   "display_name": "Python 3 (ipykernel)",
   "language": "python",
   "name": "python3"
  },
  "language_info": {
   "codemirror_mode": {
    "name": "ipython",
    "version": 3
   },
   "file_extension": ".py",
   "mimetype": "text/x-python",
   "name": "python",
   "nbconvert_exporter": "python",
   "pygments_lexer": "ipython3",
   "version": "3.9.13"
  }
 },
 "nbformat": 4,
 "nbformat_minor": 5
}
