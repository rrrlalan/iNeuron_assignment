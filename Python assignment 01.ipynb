{
 "cells": [
  {
   "cell_type": "markdown",
   "id": "c30499bc",
   "metadata": {},
   "source": [
    "# Q1. Why do we call Python as a general purpose and high-level programming language?"
   ]
  },
  {
   "cell_type": "markdown",
   "id": "c1e5c917",
   "metadata": {},
   "source": [
    "Ans:- Python is general purpose programming language because it is used to solve a wide variety of problems. Example – AI, ML, BIG DATA.\n",
    "\n",
    "It is high-level programming language because it usages natural languages which is easily understandable by human and it is usages mathematical notations which makes solution easy to understand by human beings.\n"
   ]
  },
  {
   "cell_type": "markdown",
   "id": "174ef66b",
   "metadata": {},
   "source": [
    "# Q2. Why is Python called a dynamically typed language?"
   ]
  },
  {
   "cell_type": "markdown",
   "id": "a468dc9e",
   "metadata": {},
   "source": [
    "Ans:- In Python Type check of variable takes place at run time not at declaration time so that execution become faster.\n"
   ]
  },
  {
   "cell_type": "markdown",
   "id": "0170aa8a",
   "metadata": {},
   "source": [
    "# Q3. List some pros and cons of Python programming language?"
   ]
  },
  {
   "cell_type": "markdown",
   "id": "c4ef8c98",
   "metadata": {},
   "source": [
    "Ans:- * PROS\n",
    "\n",
    "01.Easy to learn and read\n",
    "02.Python Enhance productivity\n",
    "03.Python has vast collection of library\n",
    "04.Python is free, open-source, and has a vibrant community\n",
    "05.Python is a portable programming language\n",
    "06.Python is an interpreted programming language\n",
    "\n",
    "*CONS\n",
    "\n",
    "01.Python has speed limitations\n",
    "02.Python is not so strong with mobile computing\n",
    "03.Python can have runtime errors\n",
    "04.Python consumes a lots of memory space\n",
    "05.Python is not easy to test\n"
   ]
  },
  {
   "cell_type": "markdown",
   "id": "f63da5a5",
   "metadata": {},
   "source": [
    "# Q4. In what all domains can we use Python?"
   ]
  },
  {
   "cell_type": "markdown",
   "id": "626b782a",
   "metadata": {},
   "source": [
    "Ans:- Python has a library either standard or third party for every thing, so technically you could say it's used for everything.\n",
    "\n",
    "•\tMachine learning / Artificial intelligence\n",
    "•\tDesktop GUI\n",
    "•\tData analytics and data visualization \n",
    "•\tWeb development\n",
    "•\tGame development\n",
    "•\tMobile app development\n",
    "•\tEmbedded systems …\n"
   ]
  },
  {
   "cell_type": "markdown",
   "id": "e7e6e5df",
   "metadata": {},
   "source": [
    "# Q5. What are variable and how can we declare them? "
   ]
  },
  {
   "cell_type": "markdown",
   "id": "9c36a96f",
   "metadata": {},
   "source": [
    "Ans:- A Python variable is a symbolic name which reference or point an object In other way Python variable reserved memory location to store values.\n",
    "\n",
    "Python has no command for declaring a variable. A variable is created when some value is assigned to it.\n"
   ]
  },
  {
   "cell_type": "markdown",
   "id": "c5beabb4",
   "metadata": {},
   "source": [
    "# Q6. How can we take an input from the user in Python?"
   ]
  },
  {
   "cell_type": "markdown",
   "id": "3320fdfe",
   "metadata": {},
   "source": [
    "Ans:- We take input from user by simply using input function in our programme. We can also show message to user. It always take input as an string.\n"
   ]
  },
  {
   "cell_type": "markdown",
   "id": "b33f57de",
   "metadata": {},
   "source": [
    "# Q7. What is the default datatype of the value that has been taken as an input using input() function?"
   ]
  },
  {
   "cell_type": "markdown",
   "id": "dffce3d5",
   "metadata": {},
   "source": [
    "Ans:- Default data type of input() method is string.\n"
   ]
  },
  {
   "cell_type": "markdown",
   "id": "4800e57c",
   "metadata": {},
   "source": [
    "# Q8. What is type casting?"
   ]
  },
  {
   "cell_type": "markdown",
   "id": "4d6b570d",
   "metadata": {},
   "source": [
    "Ans:- Converting one data-type into another data-type is called type casting.\n"
   ]
  },
  {
   "cell_type": "markdown",
   "id": "9fb9bea1",
   "metadata": {},
   "source": [
    "# Q9. Can we take more than one input from the user using single input() function? If yes, how? If no, why?"
   ]
  },
  {
   "cell_type": "markdown",
   "id": "30f33c36",
   "metadata": {},
   "source": [
    "Ans:- Yes, we can take multiple input using input() by requesting user to enter delimited separated field. And then by using .split() method to separate delimited field.\n"
   ]
  },
  {
   "cell_type": "markdown",
   "id": "6de5ad9d",
   "metadata": {},
   "source": [
    "# Q10. What are keywords?"
   ]
  },
  {
   "cell_type": "markdown",
   "id": "e7113852",
   "metadata": {},
   "source": [
    "Q10. What are keywords?Ans:- Keywords in Python are reserved words that can not be used as a variable name, function name, or any other identifier. There are 33 keywords in python.\n",
    "\n",
    "They are …\n",
    "\n",
    "and\tas\tassert\tbreak\n",
    "class\tcontinue\tdef\tdel\n",
    "elif\telse\texcept\tFalse\n",
    "finally\tfor\tfrom\tglobal\n",
    "if\timport\tin\tis\n",
    "lambda\tNone\tnonlocal\tnot\n",
    "or\tpass\traise\treturn\n",
    "True\ttry\twhile\twith\n",
    "yield \n"
   ]
  },
  {
   "cell_type": "markdown",
   "id": "0d2c5a73",
   "metadata": {},
   "source": [
    "# Q11. Can we use keywords as a variable? Support your answer with reason."
   ]
  },
  {
   "cell_type": "markdown",
   "id": "940f2da4",
   "metadata": {},
   "source": [
    "Ans:- Python keywords are special reserved words that have specific meanings and purposes and can't be used for anything but those specific purposes.\n"
   ]
  },
  {
   "cell_type": "markdown",
   "id": "5c63fc3e",
   "metadata": {},
   "source": [
    "# Q12. What is indentation? What's the use of indentaion in Python?"
   ]
  },
  {
   "cell_type": "markdown",
   "id": "d611953a",
   "metadata": {},
   "source": [
    "Ans:- Indentation refers to the spaces at the beginning of a code line. Where in other programming languages the indentation in code is for readability only. Python uses indentation to indicate a block of code.\n"
   ]
  },
  {
   "cell_type": "markdown",
   "id": "f406bb95",
   "metadata": {},
   "source": [
    "# Q13. How can we throw some output in Python?"
   ]
  },
  {
   "cell_type": "markdown",
   "id": "a823f5b6",
   "metadata": {},
   "source": [
    "Ans:-By using print() function, Whatever inside parentheses will be printed on output of the console.\n"
   ]
  },
  {
   "cell_type": "markdown",
   "id": "27c3853a",
   "metadata": {},
   "source": [
    "# Q14. What are operators in Python?"
   ]
  },
  {
   "cell_type": "markdown",
   "id": "a25194e6",
   "metadata": {},
   "source": [
    "Ans:- Python divides the operators in the following groups:\n",
    "\n",
    "•\tArithmetic operators\n",
    "•\tAssignment operators\n",
    "•\tComparison operators\n",
    "•\tLogical operators\n",
    "•\tIdentity operators\n",
    "•\tMembership operators\n",
    "•\tBitwise operators\n"
   ]
  },
  {
   "cell_type": "markdown",
   "id": "492f7b17",
   "metadata": {},
   "source": [
    "# Q15. What is difference between / and // operators?"
   ]
  },
  {
   "cell_type": "markdown",
   "id": "dae74031",
   "metadata": {},
   "source": [
    "Ans:- ‘/’ is a division operator used to divide two integers and gives float data type While ‘//’ is a floor division operator which divide two integers and gives int data-type it simply removes after decimal part.\n"
   ]
  },
  {
   "cell_type": "markdown",
   "id": "d18e4c3d",
   "metadata": {},
   "source": [
    "#"
   ]
  },
  {
   "cell_type": "markdown",
   "id": "f4ea1a43",
   "metadata": {},
   "source": [
    "# Q16. Write a code that gives following as an output.\n",
    "```\n",
    "iNeuroniNeuroniNeuroniNeuron\n"
   ]
  },
  {
   "cell_type": "code",
   "execution_count": 78,
   "id": "a8eaac6c",
   "metadata": {},
   "outputs": [
    {
     "name": "stdout",
     "output_type": "stream",
     "text": [
      "iNeuroniNeuroniNeuron\n"
     ]
    }
   ],
   "source": [
    "str_var = 'iNeuron'*3\n",
    "print(str_var)\n"
   ]
  },
  {
   "cell_type": "markdown",
   "id": "f15ba1c2",
   "metadata": {},
   "source": [
    "\n",
    "# Q17. Write a code to take a number as an input from the user and check if the number is odd or even."
   ]
  },
  {
   "cell_type": "code",
   "execution_count": 12,
   "id": "83ba3cab",
   "metadata": {},
   "outputs": [
    {
     "name": "stdout",
     "output_type": "stream",
     "text": [
      "Input a number : dggfdg\n",
      "Wrong input invalid literal for int() with base 10: 'dggfdg'\n",
      "Input a number : gfdg\n",
      "Wrong input invalid literal for int() with base 10: 'gfdg'\n",
      "Input a number : fdgdg\n",
      "Wrong input invalid literal for int() with base 10: 'fdgdg'\n",
      "Input a number : 65\n",
      "odd\n"
     ]
    }
   ],
   "source": [
    "flag = True\n",
    "while flag:\n",
    "    try:\n",
    "        var_num = int(input('Input a number : '))\n",
    "        flag = False\n",
    "    except Exception as e:\n",
    "        print(\"Wrong input\", e)    \n",
    "if int(var_num) % 2 == 0:\n",
    "    print('even')\n",
    "else:\n",
    "    print('odd')"
   ]
  },
  {
   "cell_type": "markdown",
   "id": "8292f49b",
   "metadata": {},
   "source": [
    "# Q18. What are boolean operator?"
   ]
  },
  {
   "cell_type": "markdown",
   "id": "776eaa32",
   "metadata": {},
   "source": [
    "Ans:- Boolean Operators are simple words (AND, OR, NOT or AND NOT) used as conjunctions to combine or exclude keywords in a search, resulting in more focused and productive results. This should save time and effort by eliminating inappropriate hits that must be scanned before discarding.\n"
   ]
  },
  {
   "cell_type": "markdown",
   "id": "7721047a",
   "metadata": {},
   "source": [
    "# Q19. What will the output of the following?"
   ]
  },
  {
   "cell_type": "markdown",
   "id": "08fbea96",
   "metadata": {},
   "source": [
    "1 or 0 -> True\n",
    "\n",
    "0 and 0 -> True\n",
    "\n",
    "True and False and True -> False\n",
    "\n",
    "1 or 0 or 0 -> True\n"
   ]
  },
  {
   "cell_type": "markdown",
   "id": "ab631018",
   "metadata": {},
   "source": [
    "# Q20. What are conditional statements in Python?"
   ]
  },
  {
   "cell_type": "markdown",
   "id": "85220080",
   "metadata": {},
   "source": [
    "Ans:- Conditional statements guide the program while making decisions based on the conditions encountered by the program. Python has 3 key Conditional Statements\n",
    "\n",
    "I.\tIf statement\n",
    "\n",
    "II.\tIf else statement\n",
    "\n",
    "III.\tIf elif ... elif else statement\n"
   ]
  },
  {
   "cell_type": "markdown",
   "id": "bc804aee",
   "metadata": {},
   "source": [
    "# Q21. What is use of 'if', 'elif' and 'else' keywords?"
   ]
  },
  {
   "cell_type": "markdown",
   "id": "892b83db",
   "metadata": {},
   "source": [
    "Ans:- \n",
    "\n",
    "I.\tIf block executed only if condition is true\n",
    "\n",
    "II.\tIf else statement -> if block executed if the condition is true Otherwise else block get executed for sure.\n",
    "\n",
    "III.\tIf elif else -> One block from if or elif get executed if condition is true otherwise else block will get executed.\n"
   ]
  },
  {
   "cell_type": "markdown",
   "id": "f6b67c47",
   "metadata": {},
   "source": [
    "# Q22. Write a code to take the age of person as an input and if age >= 18 display \"I can vote\". If age is < 18 display \"I can't vote\"."
   ]
  },
  {
   "cell_type": "code",
   "execution_count": 16,
   "id": "e1e5a3d5",
   "metadata": {},
   "outputs": [
    {
     "name": "stdout",
     "output_type": "stream",
     "text": [
      "Input a number : dgdfg\n",
      "Wrong input invalid literal for int() with base 10: 'dgdfg'\n",
      "Input a number : dfg\n",
      "Wrong input invalid literal for int() with base 10: 'dfg'\n",
      "Input a number : 56\n",
      "I can vote\n"
     ]
    }
   ],
   "source": [
    "flag = True\n",
    "while flag:\n",
    "    try:\n",
    "        var_age = int(input('Input a number : '))\n",
    "        flag = False\n",
    "    except Exception as e:\n",
    "        print(\"Wrong input\", e)  \n",
    "if int(var_age) >= 18:\n",
    "    print(\"I can vote\")\n",
    "else:\n",
    "    print(\"I can't vote\")\n"
   ]
  },
  {
   "cell_type": "markdown",
   "id": "6d1ccac2",
   "metadata": {},
   "source": [
    "# Q23. Write a code that displays the sum of all the even numbers from the given list."
   ]
  },
  {
   "cell_type": "markdown",
   "id": "1e6b6a53",
   "metadata": {},
   "source": [
    "# numbers = [12, 75, 150, 180, 145, 525, 50]\n"
   ]
  },
  {
   "cell_type": "code",
   "execution_count": 81,
   "id": "896f56a4",
   "metadata": {},
   "outputs": [
    {
     "name": "stdout",
     "output_type": "stream",
     "text": [
      "392\n"
     ]
    }
   ],
   "source": [
    "numbers = [12, 75, 150, 180, 145, 525, 50]\n",
    "var_sum = 0\n",
    "for num in numbers:\n",
    "    if num % 2 == 0:\n",
    "        var_sum += num\n",
    "print(var_sum)\n"
   ]
  },
  {
   "cell_type": "markdown",
   "id": "a126ea6f",
   "metadata": {},
   "source": [
    "# Q24. Write a code to take 3 numbers as an input from the user and display the greatest no as output."
   ]
  },
  {
   "cell_type": "code",
   "execution_count": 17,
   "id": "4b0cbf00",
   "metadata": {},
   "outputs": [
    {
     "name": "stdout",
     "output_type": "stream",
     "text": [
      "Input 3 number\n",
      "Input a number : dfg\n",
      "Wrong input invalid literal for int() with base 10: 'dfg'\n",
      "Input a number : dfgdf\n",
      "Wrong input invalid literal for int() with base 10: 'dfgdf'\n",
      "Input a number : 5\n",
      "Input a number : dgf\n",
      "Wrong input invalid literal for int() with base 10: 'dgf'\n",
      "Input a number : ++\n",
      "Wrong input invalid literal for int() with base 10: '++'\n",
      "Input a number : 54\n",
      "Input a number : 577\n",
      "Greatest number is :  577\n"
     ]
    }
   ],
   "source": [
    "gretest_num = -9999\n",
    "print(\"Input 3 number\")\n",
    "for i in range(3):\n",
    "    flag = True\n",
    "    while flag:\n",
    "        try:\n",
    "            num = int(input('Input a number : '))\n",
    "            flag = False\n",
    "        except Exception as e:\n",
    "            print(\"Wrong input\", e) \n",
    "    if num > gretest_num:\n",
    "        gretest_num = num\n",
    "print(\"Greatest number is : \", gretest_num)"
   ]
  },
  {
   "cell_type": "markdown",
   "id": "91d63763",
   "metadata": {},
   "source": [
    "# Q25. Write a program to display only those numbers from a list that satisfy the following conditions"
   ]
  },
  {
   "cell_type": "markdown",
   "id": "3aabf41a",
   "metadata": {},
   "source": [
    "# numbers = [12, 75, 150, 180, 145, 525, 50]\n",
    "\n",
    "- The number must be divisible by five\n"
   ]
  },
  {
   "cell_type": "code",
   "execution_count": 87,
   "id": "7eed06a9",
   "metadata": {},
   "outputs": [
    {
     "name": "stdout",
     "output_type": "stream",
     "text": [
      "75\n",
      "150\n",
      "180\n",
      "145\n",
      "525\n",
      "50\n"
     ]
    }
   ],
   "source": [
    "numbers = [12, 75, 150, 180, 145, 525, 50]\n",
    "for num in numbers:\n",
    "    if int(num % 5) == 0:\n",
    "        print(num)\n"
   ]
  },
  {
   "cell_type": "markdown",
   "id": "13ea1ceb",
   "metadata": {},
   "source": [
    "- If the number is greater than 150, then skip it and move to the next number"
   ]
  },
  {
   "cell_type": "code",
   "execution_count": 88,
   "id": "db459794",
   "metadata": {},
   "outputs": [
    {
     "name": "stdout",
     "output_type": "stream",
     "text": [
      "12\n",
      "75\n",
      "150\n",
      "145\n",
      "50\n"
     ]
    }
   ],
   "source": [
    "numbers = [12, 75, 150, 180, 145, 525, 50]\n",
    "for num in numbers:\n",
    "    if num <= 150:\n",
    "        print(num)\n"
   ]
  },
  {
   "cell_type": "markdown",
   "id": "6d62a40a",
   "metadata": {},
   "source": [
    "- If the number is greater than 500, then stop the loop"
   ]
  },
  {
   "cell_type": "code",
   "execution_count": 89,
   "id": "e6818d51",
   "metadata": {},
   "outputs": [
    {
     "name": "stdout",
     "output_type": "stream",
     "text": [
      "12\n",
      "75\n",
      "150\n",
      "180\n",
      "145\n"
     ]
    }
   ],
   "source": [
    "numbers = [12, 75, 150, 180, 145, 525, 50]\n",
    "for num in numbers:\n",
    "    if num > 500:\n",
    "        break\n",
    "    else:\n",
    "        print(num)\n"
   ]
  },
  {
   "cell_type": "markdown",
   "id": "feb9fa50",
   "metadata": {},
   "source": [
    "# Q26. What is a string? How can we declare string in Python?\n",
    "\n"
   ]
  },
  {
   "cell_type": "markdown",
   "id": "ea0fa531",
   "metadata": {},
   "source": [
    "Ans:-\n",
    "    String is collection of charactors. In Python it is a immutable data type.\n",
    "    \n",
    "    We can declare string in python by enclosing characters into single\\double quotes, using triple quotes(\"\"\" \"\"\") \n",
    "    we declare doc string, and also by using str() method.\n",
    "    i.e..\n",
    "    \n",
    "        ''\n",
    "    \n",
    "        \"\"\n",
    "    \n",
    "        \"\"\"\\'''\n",
    "        \n",
    "        str()\n",
    "    "
   ]
  },
  {
   "cell_type": "markdown",
   "id": "32a1cd4b",
   "metadata": {},
   "source": [
    "# Q27. How can we access the characters using its index?"
   ]
  },
  {
   "cell_type": "markdown",
   "id": "3abf351b",
   "metadata": {},
   "source": [
    "Ans :-\n",
    "    We can access the characters in a string by referring to its index number inside square brackets [] ."
   ]
  },
  {
   "cell_type": "markdown",
   "id": "adaa3f3b",
   "metadata": {},
   "source": [
    "# Q28. Write a code to get the desired output of the following\n",
    "\n",
    "string = \"Big Data iNeuron\"\n",
    "\n",
    "desired_output = \"iNeuron\""
   ]
  },
  {
   "cell_type": "code",
   "execution_count": 90,
   "id": "2b96af68",
   "metadata": {},
   "outputs": [
    {
     "data": {
      "text/plain": [
       "'iNeuron'"
      ]
     },
     "execution_count": 90,
     "metadata": {},
     "output_type": "execute_result"
    }
   ],
   "source": [
    "string = \"Big Data iNeuron\"\n",
    "string[9:]"
   ]
  },
  {
   "cell_type": "markdown",
   "id": "12036c9a",
   "metadata": {},
   "source": [
    "# Q29. Write a code to get the desired output of the following\n",
    "\n",
    "\n",
    "string = \"Big Data iNeuron\"\n",
    "\n",
    "desired_output = \"norueNi\""
   ]
  },
  {
   "cell_type": "code",
   "execution_count": 91,
   "id": "7646bb7c",
   "metadata": {},
   "outputs": [
    {
     "data": {
      "text/plain": [
       "'norueNi'"
      ]
     },
     "execution_count": 91,
     "metadata": {},
     "output_type": "execute_result"
    }
   ],
   "source": [
    "string = \"Big Data iNeuron\"\n",
    "string[:-8:-1]"
   ]
  },
  {
   "cell_type": "markdown",
   "id": "01bf8beb",
   "metadata": {},
   "source": [
    "# Q30. Resverse the string given in the above question."
   ]
  },
  {
   "cell_type": "code",
   "execution_count": 92,
   "id": "324c4fa2",
   "metadata": {},
   "outputs": [
    {
     "data": {
      "text/plain": [
       "'norueNi ataD giB'"
      ]
     },
     "execution_count": 92,
     "metadata": {},
     "output_type": "execute_result"
    }
   ],
   "source": [
    "string = \"Big Data iNeuron\"\n",
    "string[::-1]"
   ]
  },
  {
   "cell_type": "markdown",
   "id": "d302bd7e",
   "metadata": {},
   "source": [
    "# Q31. How can you delete entire string at once?\n",
    "\n"
   ]
  },
  {
   "cell_type": "code",
   "execution_count": 94,
   "id": "9c1a74fe",
   "metadata": {},
   "outputs": [
    {
     "ename": "NameError",
     "evalue": "name 'string' is not defined",
     "output_type": "error",
     "traceback": [
      "\u001b[1;31m---------------------------------------------------------------------------\u001b[0m",
      "\u001b[1;31mNameError\u001b[0m                                 Traceback (most recent call last)",
      "\u001b[1;32m~\\AppData\\Local\\Temp\\ipykernel_6260\\435275869.py\u001b[0m in \u001b[0;36m<module>\u001b[1;34m\u001b[0m\n\u001b[0;32m      1\u001b[0m \u001b[0mstring\u001b[0m \u001b[1;33m=\u001b[0m \u001b[1;34m\"Big Data iNeuron\"\u001b[0m\u001b[1;33m\u001b[0m\u001b[1;33m\u001b[0m\u001b[0m\n\u001b[0;32m      2\u001b[0m \u001b[1;32mdel\u001b[0m \u001b[0mstring\u001b[0m\u001b[1;33m\u001b[0m\u001b[1;33m\u001b[0m\u001b[0m\n\u001b[1;32m----> 3\u001b[1;33m \u001b[0mstring\u001b[0m\u001b[1;33m\u001b[0m\u001b[1;33m\u001b[0m\u001b[0m\n\u001b[0m\u001b[0;32m      4\u001b[0m \u001b[1;31m# You are getting Error because string is deleted.\u001b[0m\u001b[1;33m\u001b[0m\u001b[1;33m\u001b[0m\u001b[0m\n",
      "\u001b[1;31mNameError\u001b[0m: name 'string' is not defined"
     ]
    }
   ],
   "source": [
    "string = \"Big Data iNeuron\"\n",
    "del string\n",
    "string\n",
    "# You are getting Error because string is deleted."
   ]
  },
  {
   "cell_type": "markdown",
   "id": "3eb8325c",
   "metadata": {},
   "source": [
    "# Q32. What is escape sequence?"
   ]
  },
  {
   "cell_type": "markdown",
   "id": "af70e205",
   "metadata": {},
   "source": [
    "Ans :-\n",
    "    \n",
    "    An escape sequence is a sequence of characters that does not represent itself when used inside a character or string literal, but is translated into another character or a sequence of characters that may be difficult or impossible to represent directly.\n",
    "    \n",
    "    Example :-\n",
    "    \n",
    "        \\a,  \\t,   \\n,   \\\\,    \\r   . . . "
   ]
  },
  {
   "cell_type": "markdown",
   "id": "ca81a2f2",
   "metadata": {},
   "source": [
    "# Q33. How can you print the below string?\n",
    "\n",
    "'iNeuron's Big Data Course'"
   ]
  },
  {
   "cell_type": "code",
   "execution_count": 95,
   "id": "2c54c920",
   "metadata": {},
   "outputs": [
    {
     "name": "stdout",
     "output_type": "stream",
     "text": [
      "'iNeuron's Big Data Course'"
     ]
    }
   ],
   "source": [
    "s = \"\\'iNeuron\\'s Big Data Course\\'\"\n",
    "for i in s:\n",
    "    print(i, end='')"
   ]
  },
  {
   "cell_type": "markdown",
   "id": "de0a49fc",
   "metadata": {},
   "source": [
    "# Q34. What is a list in Python?"
   ]
  },
  {
   "cell_type": "markdown",
   "id": "a44aa6b1",
   "metadata": {},
   "source": [
    "Ans :-\n",
    "    \n",
    "    Python list is a collection of object`s Which is mutable.\n",
    "    \n",
    "    We create Python list by placing elements inside square brackets [] , separated by commas."
   ]
  },
  {
   "cell_type": "markdown",
   "id": "366a387e",
   "metadata": {},
   "source": [
    "# Q35. How can you create a list in Python?"
   ]
  },
  {
   "cell_type": "markdown",
   "id": "f1e0dd49",
   "metadata": {},
   "source": [
    "Ans :-\n",
    "    By simply placing elements\\Object`s inside square brackets [], saperated by comma.\n",
    "    "
   ]
  },
  {
   "cell_type": "markdown",
   "id": "31c04cca",
   "metadata": {},
   "source": [
    "# Q36. How can we access the elements in a list?"
   ]
  },
  {
   "cell_type": "markdown",
   "id": "b734dbe5",
   "metadata": {},
   "source": [
    "Ans :-\n",
    "    \n",
    "    To access elements from list we can use index method by placing index inside [index].\n",
    "    \n",
    "    Or we can use string sclicing method [start:stop:step]."
   ]
  },
  {
   "cell_type": "markdown",
   "id": "acfc01ce",
   "metadata": {},
   "source": [
    "# Q37. Write a code to access the word \"iNeuron\" from the given list."
   ]
  },
  {
   "cell_type": "raw",
   "id": "cc0a2f65",
   "metadata": {},
   "source": [
    "lst = [1,2,3,\"Hi\",[45,54, \"iNeuron\"], \"Big Data\"]"
   ]
  },
  {
   "cell_type": "code",
   "execution_count": 96,
   "id": "039077e4",
   "metadata": {},
   "outputs": [
    {
     "data": {
      "text/plain": [
       "'iNeuron'"
      ]
     },
     "execution_count": 96,
     "metadata": {},
     "output_type": "execute_result"
    }
   ],
   "source": [
    "lst = [1,2,3,\"Hi\",[45,54, \"iNeuron\"], \"Big Data\"]\n",
    "lst[4][2]"
   ]
  },
  {
   "cell_type": "markdown",
   "id": "96355a70",
   "metadata": {},
   "source": [
    "# Q38. Take a list as an input from the user and find the length of the list."
   ]
  },
  {
   "cell_type": "code",
   "execution_count": 30,
   "id": "5117b60c",
   "metadata": {},
   "outputs": [
    {
     "name": "stdout",
     "output_type": "stream",
     "text": [
      "Enter a List :fhgfgdh\n",
      "Wrong input : name 'fhgfgdh' is not defined\n",
      "Enter a List :{k:v}\n",
      "Wrong input : name 'k' is not defined\n",
      "Enter a List :(12,2133,3,32)\n",
      "fuihsdufik\n",
      "Wrong input : Not a List\n",
      "Enter a List :[23,32,32,32,32,32]\n",
      "The length of [23, 32, 32, 32, 32, 32] is : 6\n"
     ]
    }
   ],
   "source": [
    "flag = True\n",
    "while flag:\n",
    "    try:\n",
    "        a = eval(input(\"Enter a List :\"))\n",
    "        if type(a) == list:\n",
    "            flag = False\n",
    "        else:\n",
    "            print(\"fuihsdufik\")\n",
    "            raise Exception(\"Not a List\")\n",
    "    except Exception as e:\n",
    "        print(\"Wrong input :\", e) \n",
    "print(\"The length of\",a,\"is :\",len(a))"
   ]
  },
  {
   "cell_type": "markdown",
   "id": "bf1aa4dc",
   "metadata": {},
   "source": [
    "# Q39. Add the word \"Big\" in the 3rd index of the given list.\n",
    "\n",
    "lst = [\"Welcome\", \"to\", \"Data\", \"course\"]"
   ]
  },
  {
   "cell_type": "code",
   "execution_count": 98,
   "id": "5f94876a",
   "metadata": {},
   "outputs": [
    {
     "data": {
      "text/plain": [
       "['Welcome', 'to', 'Big', 'Data', 'course']"
      ]
     },
     "execution_count": 98,
     "metadata": {},
     "output_type": "execute_result"
    }
   ],
   "source": [
    "lst = [\"Welcome\", \"to\", \"Data\", \"course\"]\n",
    "lst.insert(3-1,\"Big\")\n",
    "lst"
   ]
  },
  {
   "cell_type": "markdown",
   "id": "85b459d2",
   "metadata": {},
   "source": [
    "# Q40. What is a tuple? How is it different from list?"
   ]
  },
  {
   "cell_type": "markdown",
   "id": "67f71730",
   "metadata": {},
   "source": [
    "Ans :-\n",
    "\n",
    "    Tuple is collection of ordered, unchangeable items that allow duplicate values.\n",
    "    \n",
    "    In list we can modify items but touple isn`t allow to modify items in it. That means touple is immutable."
   ]
  },
  {
   "cell_type": "markdown",
   "id": "4401dcd7",
   "metadata": {},
   "source": [
    "# Q41. How can you create a tuple in Python?"
   ]
  },
  {
   "cell_type": "markdown",
   "id": "58302878",
   "metadata": {},
   "source": [
    "Ans :-\n",
    "\n",
    "    A tuple is created by placing all the items (elements) inside parentheses () , separated by commas."
   ]
  },
  {
   "cell_type": "markdown",
   "id": "8cdec7b1",
   "metadata": {},
   "source": [
    "# Q42. Create a tuple and try to add your name in the tuple. Are you able to do it? Support your answer with reason."
   ]
  },
  {
   "cell_type": "code",
   "execution_count": 100,
   "id": "b246375f",
   "metadata": {},
   "outputs": [
    {
     "ename": "AttributeError",
     "evalue": "'tuple' object has no attribute 'append'",
     "output_type": "error",
     "traceback": [
      "\u001b[1;31m---------------------------------------------------------------------------\u001b[0m",
      "\u001b[1;31mAttributeError\u001b[0m                            Traceback (most recent call last)",
      "\u001b[1;32m~\\AppData\\Local\\Temp\\ipykernel_6260\\2469664192.py\u001b[0m in \u001b[0;36m<module>\u001b[1;34m\u001b[0m\n\u001b[0;32m      1\u001b[0m \u001b[0mt\u001b[0m \u001b[1;33m=\u001b[0m \u001b[1;33m(\u001b[0m\u001b[1;33m)\u001b[0m\u001b[1;33m\u001b[0m\u001b[1;33m\u001b[0m\u001b[0m\n\u001b[0;32m      2\u001b[0m \u001b[0mtype\u001b[0m\u001b[1;33m(\u001b[0m\u001b[0mt\u001b[0m\u001b[1;33m)\u001b[0m\u001b[1;33m\u001b[0m\u001b[1;33m\u001b[0m\u001b[0m\n\u001b[1;32m----> 3\u001b[1;33m \u001b[0mt\u001b[0m\u001b[1;33m.\u001b[0m\u001b[0mappend\u001b[0m\u001b[1;33m(\u001b[0m\u001b[1;34m\"Vishal\"\u001b[0m\u001b[1;33m)\u001b[0m\u001b[1;33m\u001b[0m\u001b[1;33m\u001b[0m\u001b[0m\n\u001b[0m",
      "\u001b[1;31mAttributeError\u001b[0m: 'tuple' object has no attribute 'append'"
     ]
    }
   ],
   "source": [
    "t = ()\n",
    "type(t)\n",
    "t.append(\"Vishal\")"
   ]
  },
  {
   "cell_type": "markdown",
   "id": "e01fbca0",
   "metadata": {},
   "source": [
    "It's giving error because touple is immutable data-type. It doesn't support adding/updating/appending items/elements."
   ]
  },
  {
   "cell_type": "markdown",
   "id": "f70f76a8",
   "metadata": {},
   "source": [
    "# Q43. Can two tuple be appended. If yes, write a code for it. If not, why?"
   ]
  },
  {
   "cell_type": "code",
   "execution_count": 101,
   "id": "1115296e",
   "metadata": {},
   "outputs": [
    {
     "name": "stdout",
     "output_type": "stream",
     "text": [
      "(1, 1.234, (1+2j), 'a', 'b', 'c', True, False)\n"
     ]
    }
   ],
   "source": [
    "# Yes\n",
    "t1 = (1,1.234,1+2j)\n",
    "t2 = ('a','b','c',True,False)\n",
    "t = t1 + t2\n",
    "print(t)\n",
    "# + operation first unpack elements and then add, that`s why it is possible."
   ]
  },
  {
   "cell_type": "markdown",
   "id": "42fe093a",
   "metadata": {},
   "source": [
    "# Q44. Take a tuple as an input and print the count of elements in it."
   ]
  },
  {
   "cell_type": "code",
   "execution_count": 28,
   "id": "ce5dcc8e",
   "metadata": {},
   "outputs": [
    {
     "name": "stdout",
     "output_type": "stream",
     "text": [
      "Enter a tuple :fdgfdgfdgdfgfds\n",
      "Wrong input : name 'fdgfdgfdgdfgfds' is not defined\n",
      "Enter a tuple :{1}\n",
      "Wrong input : Not a tuple\n",
      "Enter a tuple :(1)\n",
      "Wrong input : Not a tuple\n",
      "Enter a tuple :(1,2)\n",
      "The length of (1, 2) is : 2\n"
     ]
    }
   ],
   "source": [
    "flag = True\n",
    "while flag:\n",
    "    try:\n",
    "        a = eval(input(\"Enter a tuple :\"))\n",
    "        if type(a) == tuple:\n",
    "            flag = False\n",
    "        else:\n",
    "            raise Exception(\"Not a tuple\")\n",
    "    except Exception as e:\n",
    "        print(\"Wrong input :\", e) \n",
    "print(\"The length of\",a,\"is :\",len(a))"
   ]
  },
  {
   "cell_type": "markdown",
   "id": "3bd58085",
   "metadata": {},
   "source": [
    "# Q45. What are sets in Python?"
   ]
  },
  {
   "cell_type": "markdown",
   "id": "07b86b4a",
   "metadata": {},
   "source": [
    "Ans :-\n",
    "\n",
    "    Sets are built in data type, Which stores multiple distict items.\n",
    "\n",
    "    set items are unchangeable but you can add or remove items from set.\n",
    "    \n",
    "    It is unordered, unindexed."
   ]
  },
  {
   "cell_type": "markdown",
   "id": "4a68e967",
   "metadata": {},
   "source": [
    "# Q46. How can you create a set?"
   ]
  },
  {
   "cell_type": "markdown",
   "id": "160d4a13",
   "metadata": {},
   "source": [
    "Ans :-\n",
    "\n",
    "    By placing items in curly brackets {}, sapereted by comma.\n",
    "\n",
    "    Or by using reserved keyword set()"
   ]
  },
  {
   "cell_type": "markdown",
   "id": "9bb76467",
   "metadata": {},
   "source": [
    "# Q47. Create a set and add \"iNeuron\" in your set."
   ]
  },
  {
   "cell_type": "code",
   "execution_count": 103,
   "id": "19313f77",
   "metadata": {},
   "outputs": [
    {
     "data": {
      "text/plain": [
       "{'iNeuron'}"
      ]
     },
     "execution_count": 103,
     "metadata": {},
     "output_type": "execute_result"
    }
   ],
   "source": [
    "s = set()\n",
    "s.add(\"iNeuron\")\n",
    "s"
   ]
  },
  {
   "cell_type": "markdown",
   "id": "50c098db",
   "metadata": {},
   "source": [
    "# Q48. Try to add multiple values using add() function."
   ]
  },
  {
   "cell_type": "code",
   "execution_count": 104,
   "id": "d807d725",
   "metadata": {},
   "outputs": [
    {
     "name": "stdout",
     "output_type": "stream",
     "text": [
      "{('I', 'Love', 'iNeuron')}\n"
     ]
    }
   ],
   "source": [
    "s = set()\n",
    "s.add((\"I\", \"Love\", \"iNeuron\")) # add() only add single values.\n",
    "print(s)"
   ]
  },
  {
   "cell_type": "markdown",
   "id": "b288b785",
   "metadata": {},
   "source": [
    "# Q49. How is update() different from add()?"
   ]
  },
  {
   "cell_type": "markdown",
   "id": "b0e67dca",
   "metadata": {},
   "source": [
    "Ans :-\n",
    "    \n",
    "    We use add() method to add single value to a set.\n",
    "\n",
    "    We use update() method to add sequence values to a set."
   ]
  },
  {
   "cell_type": "markdown",
   "id": "54c1003e",
   "metadata": {},
   "source": [
    "# Q50. What is clear() in sets?"
   ]
  },
  {
   "cell_type": "markdown",
   "id": "b63390a2",
   "metadata": {},
   "source": [
    "# Ans :-\n",
    "\n",
    "    The clear() method removes all elements in a set."
   ]
  },
  {
   "cell_type": "markdown",
   "id": "b8d7f3f3",
   "metadata": {},
   "source": [
    "# Q51. What is frozen set?"
   ]
  },
  {
   "cell_type": "markdown",
   "id": "b7626043",
   "metadata": {},
   "source": [
    "Ans :-\n",
    "    \n",
    "    Frozen set is just an immutable version of a Python set object. While elements of a set can be modified at any time,\n",
    "    elements of the frozen set remain the same after creation."
   ]
  },
  {
   "cell_type": "markdown",
   "id": "e3b49e1d",
   "metadata": {},
   "source": [
    "# Q52. How is frozen set different from set?"
   ]
  },
  {
   "cell_type": "markdown",
   "id": "15bde601",
   "metadata": {},
   "source": [
    "Ans :-\n",
    "\n",
    "    Once generated elements from the frozenset cannot be added or removed while in set it is possible."
   ]
  },
  {
   "cell_type": "markdown",
   "id": "7d6cb116",
   "metadata": {},
   "source": [
    "# Q53. What is union() in sets? Explain via code."
   ]
  },
  {
   "cell_type": "code",
   "execution_count": 106,
   "id": "5e6312f7",
   "metadata": {},
   "outputs": [
    {
     "data": {
      "text/plain": [
       "{1, 2, 3, 7, 8, 9}"
      ]
     },
     "execution_count": 106,
     "metadata": {},
     "output_type": "execute_result"
    }
   ],
   "source": [
    "# Union in set combine all the elements from both the sets, Ex {1,2,3} U {7,8,9} = {1,2,3,7,8,9}\n",
    "# Let,\n",
    "a = {1,2,3}\n",
    "b = {7,8,9}\n",
    "c = a.union(b) # c is union of a and b\n",
    "c"
   ]
  },
  {
   "cell_type": "markdown",
   "id": "1034bb08",
   "metadata": {},
   "source": [
    "# Q54. What is intersection() in sets? Explain via code."
   ]
  },
  {
   "cell_type": "code",
   "execution_count": 107,
   "id": "f40b7a45",
   "metadata": {},
   "outputs": [
    {
     "data": {
      "text/plain": [
       "set()"
      ]
     },
     "execution_count": 107,
     "metadata": {},
     "output_type": "execute_result"
    }
   ],
   "source": [
    "# intersection in set remove all the common elements from both the sets, Ex {1,2,3} ∩ {7,8,9} = {}\n",
    "# Let,\n",
    "a = {1,2,3}\n",
    "b = {7,8,9}\n",
    "c = a.intersection(b) # c is intersection of a and b, No elements are common hence 0 elements\n",
    "c"
   ]
  },
  {
   "cell_type": "markdown",
   "id": "d6b23759",
   "metadata": {},
   "source": [
    "# Q55. What is dictionary in Python?"
   ]
  },
  {
   "cell_type": "markdown",
   "id": "25809f0b",
   "metadata": {},
   "source": [
    "Ans :-\n",
    "\n",
    "    Dictionary store its elements in key value pair.\n",
    "\n",
    "    A dictionary is an unordered and mutable Python container that stores mappings of unique keys to values."
   ]
  },
  {
   "cell_type": "markdown",
   "id": "a3b09893",
   "metadata": {},
   "source": [
    "# Q56. How is dictionary different from all other data structures"
   ]
  },
  {
   "cell_type": "markdown",
   "id": "9fa092c0",
   "metadata": {},
   "source": [
    "Ans :-\n",
    "\n",
    "    A dictionary objects are stored in key value formates, Dictionary values are accessed using its key,\n",
    "\n",
    "    while Other sata stractures are stored in containers formate and its value are accessed through index method."
   ]
  },
  {
   "cell_type": "markdown",
   "id": "7f201253",
   "metadata": {},
   "source": [
    "# Q57. How can we delare a dictionary in Python?"
   ]
  },
  {
   "cell_type": "markdown",
   "id": "33dde5db",
   "metadata": {},
   "source": [
    "Ans :-\n",
    "\n",
    "    Using {}, in which key:values are defined and by dict() method we declare dictionary in python."
   ]
  },
  {
   "cell_type": "markdown",
   "id": "8430e88f",
   "metadata": {},
   "source": [
    "# Q58. What will the output of the following?\n",
    "\n",
    "var = {}\n",
    "\n",
    "print(type(var))"
   ]
  },
  {
   "cell_type": "code",
   "execution_count": 108,
   "id": "a46984e0",
   "metadata": {},
   "outputs": [
    {
     "name": "stdout",
     "output_type": "stream",
     "text": [
      "<class 'dict'>\n"
     ]
    }
   ],
   "source": [
    "# <class 'dict'>\n",
    "var = {}\n",
    "print(type(var))"
   ]
  },
  {
   "cell_type": "markdown",
   "id": "636ea4a4",
   "metadata": {},
   "source": [
    "# Q59. How can we add an element in a dictionary?"
   ]
  },
  {
   "cell_type": "markdown",
   "id": "9b2dbb42",
   "metadata": {},
   "source": [
    "Ans :-\n",
    "\n",
    "    In front of dict name, by writting keys within square brackets [] and then assign the value to it.\n",
    "    Dict_name[\"keys\"] = 'Values'"
   ]
  },
  {
   "cell_type": "markdown",
   "id": "f777e8f1",
   "metadata": {},
   "source": [
    "# Q60. Create a dictionary and access all the values in that dictionary."
   ]
  },
  {
   "cell_type": "code",
   "execution_count": 109,
   "id": "6cade961",
   "metadata": {},
   "outputs": [
    {
     "name": "stdout",
     "output_type": "stream",
     "text": [
      "Sudhanshu Shashank are awesome !!!\n"
     ]
    }
   ],
   "source": [
    "my_dict = {1:\"Sudhanshu\", 2:\"Shashank\", 3:\"are\", 4:\"awesome !!!\"}\n",
    "\n",
    "print(my_dict[1], my_dict[2], my_dict[3], my_dict[4])"
   ]
  },
  {
   "cell_type": "markdown",
   "id": "e9e190a8",
   "metadata": {},
   "source": [
    "# Q61. Create a nested dictionary and access all the element in the inner dictionary."
   ]
  },
  {
   "cell_type": "code",
   "execution_count": 110,
   "id": "c99126a4",
   "metadata": {},
   "outputs": [
    {
     "name": "stdout",
     "output_type": "stream",
     "text": [
      "1\n",
      "2\n",
      "3\n",
      "4\n",
      "8\n",
      "5\n",
      "6\n",
      "7\n",
      "9\n",
      "10\n"
     ]
    },
    {
     "data": {
      "text/plain": [
       "{1, 2, 3, 4}"
      ]
     },
     "execution_count": 110,
     "metadata": {},
     "output_type": "execute_result"
    }
   ],
   "source": [
    "d = {1:{1,2,3,4}, 2:{5,6,7,8}, 3:{9,10}}\n",
    "for item in d:\n",
    "    for val in d[item]:\n",
    "        print(val)\n",
    "d.get(1)"
   ]
  },
  {
   "cell_type": "markdown",
   "id": "988fe624",
   "metadata": {},
   "source": [
    "# Q62. What is the use of get() function?"
   ]
  },
  {
   "cell_type": "code",
   "execution_count": 111,
   "id": "df82fcc9",
   "metadata": {},
   "outputs": [
    {
     "data": {
      "text/plain": [
       "{1, 2, 3, 4}"
      ]
     },
     "execution_count": 111,
     "metadata": {},
     "output_type": "execute_result"
    }
   ],
   "source": [
    "# Ans :-\n",
    "#     Return the value for key if key is in the dictionary, else None.\n",
    "d = {1:{1,2,3,4}, 2:{5,6,7,8}, 3:{9,10}}\n",
    "d.get(1)"
   ]
  },
  {
   "cell_type": "markdown",
   "id": "53b234a5",
   "metadata": {},
   "source": [
    "# Q63. What is the use of items() function?"
   ]
  },
  {
   "cell_type": "code",
   "execution_count": 112,
   "id": "dce5e306",
   "metadata": {},
   "outputs": [
    {
     "data": {
      "text/plain": [
       "dict_items([(1, {1, 2, 3, 4}), (2, {8, 5, 6, 7}), (3, {9, 10})])"
      ]
     },
     "execution_count": 112,
     "metadata": {},
     "output_type": "execute_result"
    }
   ],
   "source": [
    "#  A set-like object providing a view on Dictionary items, every key value pairs are represented as set.\n",
    "d = {1:{1,2,3,4}, 2:{5,6,7,8}, 3:{9,10}}\n",
    "d.items()"
   ]
  },
  {
   "cell_type": "markdown",
   "id": "559add32",
   "metadata": {},
   "source": [
    "# Q64. What is the use of pop() function?"
   ]
  },
  {
   "cell_type": "code",
   "execution_count": 113,
   "id": "a423e4bb",
   "metadata": {},
   "outputs": [
    {
     "data": {
      "text/plain": [
       "[2.3, 3]"
      ]
     },
     "execution_count": 113,
     "metadata": {},
     "output_type": "execute_result"
    }
   ],
   "source": [
    "#Ans :- It remove the items at specific position\n",
    "d = [1,2.3,3]\n",
    "d.pop(0)\n",
    "d"
   ]
  },
  {
   "cell_type": "markdown",
   "id": "5fbe81ed",
   "metadata": {},
   "source": [
    "# Q65. What is the use of popitems() function?"
   ]
  },
  {
   "cell_type": "code",
   "execution_count": 114,
   "id": "0fca6d48",
   "metadata": {},
   "outputs": [
    {
     "data": {
      "text/plain": [
       "(3, {9, 10})"
      ]
     },
     "execution_count": 114,
     "metadata": {},
     "output_type": "execute_result"
    }
   ],
   "source": [
    "# The popitem() method removes the item that was last inserted into the dictionary.\n",
    "d = {1:{1,2,3,4}, 2:{5,6,7,8}, 3:{9,10}}\n",
    "d.popitem()"
   ]
  },
  {
   "cell_type": "markdown",
   "id": "24bedf39",
   "metadata": {},
   "source": [
    "# Q66. What is the use of keys() function?"
   ]
  },
  {
   "cell_type": "code",
   "execution_count": 115,
   "id": "3ba8d3f3",
   "metadata": {},
   "outputs": [
    {
     "data": {
      "text/plain": [
       "dict_keys([1, 2, 3])"
      ]
     },
     "execution_count": 115,
     "metadata": {},
     "output_type": "execute_result"
    }
   ],
   "source": [
    "# It gives view of dictionary keys in set like like formate.\n",
    "d = {1:{1,2,3,4}, 2:{5,6,7,8}, 3:{9,10}}\n",
    "d.keys()"
   ]
  },
  {
   "cell_type": "markdown",
   "id": "a196710e",
   "metadata": {},
   "source": [
    "# Q67. What is the use of values() function?"
   ]
  },
  {
   "cell_type": "code",
   "execution_count": 116,
   "id": "89b5ecae",
   "metadata": {},
   "outputs": [
    {
     "data": {
      "text/plain": [
       "dict_values([{1, 2, 3, 4}, {8, 5, 6, 7}, {9, 10}])"
      ]
     },
     "execution_count": 116,
     "metadata": {},
     "output_type": "execute_result"
    }
   ],
   "source": [
    "# It gives view of dictionary values in set like like formate.\n",
    "d = {1:{1,2,3,4}, 2:{5,6,7,8}, 3:{9,10}}\n",
    "d.values()"
   ]
  },
  {
   "cell_type": "markdown",
   "id": "6579ed39",
   "metadata": {},
   "source": [
    "# Q68. What is loops in Python?"
   ]
  },
  {
   "cell_type": "code",
   "execution_count": 117,
   "id": "f6e1a546",
   "metadata": {},
   "outputs": [],
   "source": [
    "# Loops in python used to loop through certain peace of code while conditions are  not matched."
   ]
  },
  {
   "cell_type": "markdown",
   "id": "656a41fc",
   "metadata": {},
   "source": [
    "# Q69. How many type of loop are there in Python?"
   ]
  },
  {
   "cell_type": "code",
   "execution_count": 118,
   "id": "e00694f7",
   "metadata": {},
   "outputs": [],
   "source": [
    "# There are two types of loop in python.\n",
    "# 1. for loop\n",
    "# 2. while loop"
   ]
  },
  {
   "cell_type": "markdown",
   "id": "d50c1430",
   "metadata": {},
   "source": [
    "# Q70. What is the difference between for and while loops?"
   ]
  },
  {
   "cell_type": "code",
   "execution_count": 119,
   "id": "4ac32540",
   "metadata": {},
   "outputs": [],
   "source": [
    "# for loop :- try to iterate over certain no of times, each time conditions are not checked.\n",
    "# while loop :- first check the conditions then executes code, no of executions are not predefined."
   ]
  },
  {
   "cell_type": "markdown",
   "id": "0f652dc7",
   "metadata": {},
   "source": [
    "# Q71. What is the use of continue statement?"
   ]
  },
  {
   "cell_type": "code",
   "execution_count": 120,
   "id": "b499f26b",
   "metadata": {},
   "outputs": [],
   "source": [
    "# A continue statement ends the current iteration of a loop.\n",
    "# Program control is passed from the continue statement to the end of the loop body."
   ]
  },
  {
   "cell_type": "markdown",
   "id": "00121d4d",
   "metadata": {},
   "source": [
    "# Q72. What is the use of break statement?"
   ]
  },
  {
   "cell_type": "code",
   "execution_count": 121,
   "id": "60e81e29",
   "metadata": {},
   "outputs": [],
   "source": [
    "# Break Statement is a loop control statement that is used to terminate the loop."
   ]
  },
  {
   "cell_type": "markdown",
   "id": "49b1e64a",
   "metadata": {},
   "source": [
    "# Q73. What is the use of pass statement?"
   ]
  },
  {
   "cell_type": "code",
   "execution_count": 122,
   "id": "c2d02e61",
   "metadata": {},
   "outputs": [],
   "source": [
    "# The pass statement is used as a placeholder for future code. When the pass statement is executed, \n",
    "# nothing happens, but you avoid getting an error when empty code is not allowed"
   ]
  },
  {
   "cell_type": "markdown",
   "id": "46546beb",
   "metadata": {},
   "source": [
    "# Q74. What is the use of range() function?"
   ]
  },
  {
   "cell_type": "markdown",
   "id": "5c8604db",
   "metadata": {},
   "source": [
    "The range() function returns a sequence of numbers,\n",
    "starting from 0 by default, and increments by 1 (by default), \n",
    "and stops before a specified number."
   ]
  },
  {
   "cell_type": "markdown",
   "id": "95cfccff",
   "metadata": {},
   "source": [
    "# Q75. How can you loop over a dictionary?"
   ]
  },
  {
   "cell_type": "markdown",
   "id": "7bdc1d0c",
   "metadata": {},
   "source": [
    "\n",
    "You can loop through a dictionary by using a for loop. When looping through a dictionary, \n",
    "the return value are the keys of the dictionary, but there are methods to return the values as well."
   ]
  },
  {
   "cell_type": "markdown",
   "id": "0ab65b4c",
   "metadata": {},
   "source": [
    "# Coding problems"
   ]
  },
  {
   "cell_type": "markdown",
   "id": "1b834931",
   "metadata": {},
   "source": [
    "# Q76. Write a Python program to find the factorial of a given number."
   ]
  },
  {
   "cell_type": "code",
   "execution_count": 42,
   "id": "30ebdfa0",
   "metadata": {},
   "outputs": [
    {
     "name": "stdout",
     "output_type": "stream",
     "text": [
      "Enter a number to find fact : dff\n",
      "Wrong input :- invalid literal for int() with base 10: 'dff'\n",
      "Enter a number to find fact : \"\n",
      "Wrong input :- invalid literal for int() with base 10: '\"'\n",
      "Enter a number to find fact : 10\n"
     ]
    },
    {
     "data": {
      "text/plain": [
       "[1, 2, 5]"
      ]
     },
     "execution_count": 42,
     "metadata": {},
     "output_type": "execute_result"
    }
   ],
   "source": [
    "flag = True\n",
    "while flag:\n",
    "    try:\n",
    "        num = int(input(\"Enter a number to find fact : \"))\n",
    "        flag = False\n",
    "    except Exception as e:\n",
    "        print(\"Wrong input :-\", e)\n",
    "fact = []\n",
    "if num < 0:\n",
    "    print(\"Fact of Negative number does not exists.\")\n",
    "elif num == 0 or num == 1:\n",
    "    l = 1\n",
    "elif num == 2:\n",
    "    l = [1, 2]\n",
    "else:\n",
    "    l = [n for n in range(1, int((num/2)+1)) if num % n == 0]\n",
    "l"
   ]
  },
  {
   "cell_type": "markdown",
   "id": "48f62177",
   "metadata": {},
   "source": [
    "# Q77. Write a Python program to calculate the simple interest. Formula to calculate simple interest is SI = (PRT)/100"
   ]
  },
  {
   "cell_type": "code",
   "execution_count": 124,
   "id": "213e8142",
   "metadata": {},
   "outputs": [
    {
     "name": "stdout",
     "output_type": "stream",
     "text": [
      "Enter Principle: 566\n",
      "Enter Rate: 12\n",
      "Enter Time: 2\n",
      "Your Intrest is :  135.84\n"
     ]
    }
   ],
   "source": [
    "p = float(input(\"Enter Principle: \"))\n",
    "r = float(input(\"Enter Rate: \"))\n",
    "t = float(input(\"Enter Time: \"))\n",
    "\n",
    "si = (p*r*t)/100\n",
    "\n",
    "print(\"Your Intrest is : \", si)"
   ]
  },
  {
   "cell_type": "markdown",
   "id": "487d141f",
   "metadata": {},
   "source": [
    "# Q78. Write a Python program to calculate the compound interest. Formula of compound interest is A = P(1+ R/100)^t."
   ]
  },
  {
   "cell_type": "code",
   "execution_count": 125,
   "id": "0515e61d",
   "metadata": {},
   "outputs": [
    {
     "name": "stdout",
     "output_type": "stream",
     "text": [
      "Enter Principle: 656533\n",
      "Enter Rate: 10\n",
      "Enter Time: 3\n",
      "Your Intrest is :  873845.4230000003\n"
     ]
    }
   ],
   "source": [
    "p = float(input(\"Enter Principle: \"))\n",
    "r = float(input(\"Enter Rate: \"))\n",
    "t = float(input(\"Enter Time: \"))\n",
    "\n",
    "si = p*(1 + (r/100))**t\n",
    "\n",
    "print(\"Your Intrest is : \", si)"
   ]
  },
  {
   "cell_type": "markdown",
   "id": "ed8a1c37",
   "metadata": {},
   "source": [
    "# Q79. Write a Python program to check if a number is prime or not."
   ]
  },
  {
   "cell_type": "code",
   "execution_count": 44,
   "id": "f6f264eb",
   "metadata": {},
   "outputs": [
    {
     "name": "stdout",
     "output_type": "stream",
     "text": [
      "Enter a number to Check Prime or not : ghyhytrygftdrgg\n",
      "Wrong input :- invalid literal for int() with base 10: 'ghyhytrygftdrgg'\n",
      "Enter a number to Check Prime or not : 859857454765184865417\n",
      "Prime Number\n"
     ]
    }
   ],
   "source": [
    "flag = True\n",
    "while flag:\n",
    "    try:\n",
    "        num = int(input(\"Enter a number to Check Prime or not : \"))\n",
    "        flag = False\n",
    "    except Exception as e:\n",
    "        print(\"Wrong input :-\", e)\n",
    "if num < 0:\n",
    "    print(\"Negative number.\")\n",
    "elif num == 0 or num == 1:\n",
    "    print(\"Not Prime\")\n",
    "else:\n",
    "    for n in range(2, int((num/2)+2)):\n",
    "        if num % n == 0:\n",
    "            print(\"Not Prime\")\n",
    "            break\n",
    "        else:\n",
    "            print(\"Prime Number\")\n",
    "            break   "
   ]
  },
  {
   "cell_type": "markdown",
   "id": "6136ba46",
   "metadata": {},
   "source": [
    "# Q80. Write a Python program to check Armstrong Number."
   ]
  },
  {
   "cell_type": "code",
   "execution_count": 50,
   "id": "a8da61c9",
   "metadata": {},
   "outputs": [
    {
     "name": "stdout",
     "output_type": "stream",
     "text": [
      "Enter a number to check Armastrong or Not : 5456832.3\n",
      "Wrong input :- invalid literal for int() with base 10: '5456832.3'\n",
      "Enter a number to check Armastrong or Not : 54867557\n",
      "Not Armstrong\n"
     ]
    }
   ],
   "source": [
    "flag = True\n",
    "while flag:\n",
    "    try:\n",
    "        num = int(input(\"Enter a number to check Armastrong or Not : \"))\n",
    "        flag = False\n",
    "    except Exception as e:\n",
    "        print(\"Wrong input :-\", e)\n",
    "sum  = 0\n",
    "for n in str(num):\n",
    "    sum += int(n)**3\n",
    "print(\"Armstrong\") if sum == int(num) else print(\"Not Armstrong\")"
   ]
  },
  {
   "cell_type": "markdown",
   "id": "728a4014",
   "metadata": {},
   "source": [
    "# Q81. Write a Python program to find the n-th Fibonacci Number."
   ]
  },
  {
   "cell_type": "code",
   "execution_count": 130,
   "id": "56d0fc38",
   "metadata": {},
   "outputs": [
    {
     "name": "stdout",
     "output_type": "stream",
     "text": [
      "Enter the length of Fibonacci Series. 8\n",
      "1 1 2 3 5 8 13 21 "
     ]
    }
   ],
   "source": [
    "fibo_len = int(input(\"Enter the length of Fibonacci Series. \"))\n",
    "if fibo_len == 1:\n",
    "    print(\"1\")\n",
    "else:\n",
    "    a,b = 1,1\n",
    "    for i in range(fibo_len):\n",
    "        print(a, end=' ')\n",
    "        a,b = b,a+b"
   ]
  },
  {
   "cell_type": "code",
   "execution_count": 132,
   "id": "c9543ef4",
   "metadata": {},
   "outputs": [
    {
     "name": "stdout",
     "output_type": "stream",
     "text": [
      "Enter the length of Fibonacci Series. 56\n",
      "1 1 2 3 5 8 13 21 34 55 89 144 233 377 610 987 1597 2584 4181 6765 10946 17711 28657 46368 75025 121393 196418 317811 514229 832040 1346269 2178309 3524578 5702887 9227465 14930352 24157817 39088169 63245986 102334155 165580141 267914296 433494437 701408733 1134903170 1836311903 2971215073 4807526976 7778742049 12586269025 20365011074 32951280099 53316291173 86267571272 139583862445 225851433717 "
     ]
    }
   ],
   "source": [
    "def febo(fibo_len):\n",
    "    if fibo_len == 1:\n",
    "        print(\"1\")\n",
    "    else:\n",
    "        a,b = 1,1\n",
    "        for i in range(fibo_len):\n",
    "            yield a\n",
    "            a,b = b,a+b\n",
    "\n",
    "fn = int(input(\"Enter the length of Fibonacci Series. \"))\n",
    "for n in febo(fn):\n",
    "    print(n, end=\" \")"
   ]
  },
  {
   "cell_type": "markdown",
   "id": "db1e28e2",
   "metadata": {},
   "source": [
    "# Q82. Write a Python program to interchange the first and last element in a list."
   ]
  },
  {
   "cell_type": "code",
   "execution_count": 52,
   "id": "6f34a92f",
   "metadata": {},
   "outputs": [
    {
     "name": "stdout",
     "output_type": "stream",
     "text": [
      "My list before interchanging first and last : ['Sudhanshu', 'is', 'better', 'than', 'Shashank']\n",
      "My list After interchanging first and last : ['Shashank', 'is', 'better', 'than', 'Sudhanshu']\n"
     ]
    }
   ],
   "source": [
    "my_list = [\"Sudhanshu\", \"is\", \"better\", \"than\", \"Shashank\"]\n",
    "print(\"My list before interchanging first and last :\", my_list)\n",
    "temp = my_list[0]\n",
    "my_list[0] = my_list[-1]\n",
    "my_list[-1] = temp\n",
    "print(\"My list After interchanging first and last :\", my_list)"
   ]
  },
  {
   "cell_type": "markdown",
   "id": "9e391754",
   "metadata": {},
   "source": [
    "# Q83. Write a Python program to swap two elements in a list."
   ]
  },
  {
   "cell_type": "code",
   "execution_count": 54,
   "id": "3ee60d43",
   "metadata": {},
   "outputs": [
    {
     "name": "stdout",
     "output_type": "stream",
     "text": [
      "['Sudhanshu', 'is', 'better', 'than', 'Shashank'] \n",
      "\n",
      " Enter pos1 and pos2 to swap elements within list sapereted by space :\n",
      "0 1\n",
      "My list before interchanging first and last : ['Sudhanshu', 'is', 'better', 'than', 'Shashank']\n",
      "My list After interchanging first and last : ['Shashank', 'is', 'better', 'than', 'Sudhanshu']\n"
     ]
    }
   ],
   "source": [
    "def swap(my_list, p1, p2):\n",
    "    print(\"My list before interchanging first and last :\", my_list)\n",
    "    temp = my_list[p1]\n",
    "    my_list[p1] = my_list[p2]\n",
    "    my_list[p2] = temp\n",
    "    print(\"My list After interchanging first and last :\", my_list)\n",
    "\n",
    "my_list = [\"Sudhanshu\", \"is\", \"better\", \"than\", \"Shashank\"]\n",
    "print(my_list, \"\\n\\n\", \"Enter pos1 and pos2 to swap elements within list sapereted by space :\")\n",
    "pos1,pos2 = map(int, input().split())\n",
    "if pos1 < len(my_list) and pos2 < len(my_list):\n",
    "    swap(my_list,pos1-1,pos2-1)\n",
    "else:\n",
    "    print(\"Wrong input\")"
   ]
  },
  {
   "cell_type": "markdown",
   "id": "ec02df00",
   "metadata": {},
   "source": [
    "# Q84. Write a Python program to find N largest element from a list."
   ]
  },
  {
   "cell_type": "code",
   "execution_count": 61,
   "id": "e103b3b3",
   "metadata": {},
   "outputs": [
    {
     "name": "stdout",
     "output_type": "stream",
     "text": [
      "[1, 56, 51, 75, 0, 1, 65, 36, 56, 0]\n",
      "Which largest(N`th) number you want to find :dfg\n",
      "Error : invalid literal for int() with base 10: 'dfg'\n",
      "[1, 56, 51, 75, 0, 1, 65, 36, 56, 0]\n",
      "Which largest(N`th) number you want to find :1253.23\n",
      "Error : invalid literal for int() with base 10: '1253.23'\n",
      "[1, 56, 51, 75, 0, 1, 65, 36, 56, 0]\n",
      "Which largest(N`th) number you want to find :3\n",
      "[1, 56, 51, 75, 0, 1, 65, 36, 56, 0] \n",
      "\n",
      " 3`th largest number is -> 56\n"
     ]
    }
   ],
   "source": [
    "num_list = [1, 56, 51, 75, 0 ,1 ,65, 36, 56,0]\n",
    "n = sorted(set(num_list))\n",
    "flag = True\n",
    "while flag:\n",
    "    try:\n",
    "        print(num_list)\n",
    "        n_largest = int(input(\"Which largest(N`th) number you want to find :\"))\n",
    "        if n_largest > len(num_list):\n",
    "            raise Exception(f\"List Index out of range, List length = {len(num_list)}\")\n",
    "        flag = False\n",
    "    except Exception as e:\n",
    "        print(\"Error :\", e)\n",
    "print(num_list,'\\n\\n',f\"{n_largest}`th largest number is ->\", n[-n_largest])"
   ]
  },
  {
   "cell_type": "markdown",
   "id": "66ac9036",
   "metadata": {},
   "source": [
    "# Q85. Write a Python program to find cumulative sum of a list."
   ]
  },
  {
   "cell_type": "code",
   "execution_count": 64,
   "id": "098ec7f7",
   "metadata": {},
   "outputs": [
    {
     "name": "stdout",
     "output_type": "stream",
     "text": [
      "[1, 56, 51, 75, 0, 1, 65, 36, 56, 0]\n",
      "1, 57, 108, 183, 183, 184, 249, 285, 341, 341, "
     ]
    }
   ],
   "source": [
    "num_list = [1, 56, 51, 75, 0 ,1 ,65, 36, 56,0]\n",
    "print(num_list)\n",
    "sum = 0\n",
    "for n in num_list:\n",
    "    sum += n\n",
    "    print(sum, end=', ')"
   ]
  },
  {
   "cell_type": "markdown",
   "id": "03e17d10",
   "metadata": {},
   "source": [
    "# Q86. Write a Python program to check if a string is palindrome or not."
   ]
  },
  {
   "cell_type": "code",
   "execution_count": 138,
   "id": "d093a69e",
   "metadata": {},
   "outputs": [
    {
     "name": "stdout",
     "output_type": "stream",
     "text": [
      "Enter a string :fcdfvfdvds\n",
      "fcdfvfdvds is Not Palindromr\n"
     ]
    }
   ],
   "source": [
    "str_var = input(\"Enter a string :\")\n",
    "flag = False\n",
    "for i in range(int(len(str_var)/2)):\n",
    "    if str_var[i] != str_var[-i-1]:\n",
    "        flag = True\n",
    "        break\n",
    "print(f\"{str_var} is Not Palindromr\") if flag else print(f\"{str_var} is Palindrome\")"
   ]
  },
  {
   "cell_type": "markdown",
   "id": "cd2f2f0c",
   "metadata": {},
   "source": [
    "# Q87. Write a Python program to remove i'th element from a string."
   ]
  },
  {
   "cell_type": "code",
   "execution_count": 74,
   "id": "85be6a1e",
   "metadata": {},
   "outputs": [
    {
     "name": "stdout",
     "output_type": "stream",
     "text": [
      "Enter Your string : lalan kumar\n",
      "i`th position ? lalan\n",
      "invalid literal for int() with base 10: 'lalan'\n",
      "i`th position ? 100\n",
      "List index out of range\n",
      "i`th position ? 1\n",
      "Final string is: alan kumar\n"
     ]
    }
   ],
   "source": [
    "my_str = input(\"Enter Your string : \")\n",
    "flag = True\n",
    "while flag:\n",
    "    try:\n",
    "        nth = int(input(\"i`th position ? \"))\n",
    "        nth -= 1\n",
    "        if nth > len(my_str):\n",
    "            raise Exception(\"List index out of range\")\n",
    "        flag = False\n",
    "    except Exception as e:\n",
    "        print(e)\n",
    "my_str_list = [c for c in my_str]\n",
    "my_str_list.remove(my_str_list[nth])\n",
    "print(\"Final string is:\", \"\".join(my_str_list))"
   ]
  },
  {
   "cell_type": "markdown",
   "id": "58ace7eb",
   "metadata": {},
   "source": [
    "# Q88. Write a Python program to check if a substring is present in a given string."
   ]
  },
  {
   "cell_type": "code",
   "execution_count": 77,
   "id": "82656785",
   "metadata": {},
   "outputs": [
    {
     "name": "stdout",
     "output_type": "stream",
     "text": [
      "Enter string : 123456789\n",
      "Enter sub string : 89\n",
      "'89' is present in '123456789' at 7 to 8\n"
     ]
    }
   ],
   "source": [
    "my_str = input(\"Enter string : \")\n",
    "my_sub_str = input(\"Enter sub string : \")\n",
    "len_sub = len(my_sub_str)\n",
    "flag = False\n",
    "for i in range(len(my_str)-len_sub+1):\n",
    "    if my_str[i:i+len_sub] == my_sub_str:\n",
    "        flag = True\n",
    "        break\n",
    "print(f\"\\'{my_sub_str}\\' is present in \\'{my_str}\\' at {i} to {i+len_sub-1}\") if flag else print(f\"{my_sub_str} is not present in {my_str}\")"
   ]
  },
  {
   "cell_type": "markdown",
   "id": "22c4edfb",
   "metadata": {},
   "source": [
    "# Q89. Write a Python program to find words which are greater than given length k."
   ]
  },
  {
   "cell_type": "code",
   "execution_count": 79,
   "id": "fb55ee5c",
   "metadata": {},
   "outputs": [
    {
     "name": "stdout",
     "output_type": "stream",
     "text": [
      "['Q89.', 'Write', 'a', 'Python', 'program', 'to', 'find', 'words', 'which', 'are', 'greater', 'than', 'given', 'length', 'k.']\n",
      "Word lengths ? 5\n"
     ]
    },
    {
     "data": {
      "text/plain": [
       "['Python', 'program', 'greater', 'length']"
      ]
     },
     "execution_count": 79,
     "metadata": {},
     "output_type": "execute_result"
    }
   ],
   "source": [
    "word_list = \"Q89. Write a Python program to find words which are greater than given length k.\".split()\n",
    "print(word_list)\n",
    "l = int(input(\"Word lengths ? \"))\n",
    "new_word_list = [word for word in word_list if len(word) > l]\n",
    "new_word_list"
   ]
  },
  {
   "cell_type": "markdown",
   "id": "a778cace",
   "metadata": {},
   "source": [
    "# Q90. Write a Python program to extract unquire dictionary values."
   ]
  },
  {
   "cell_type": "code",
   "execution_count": null,
   "id": "95d7f43d",
   "metadata": {},
   "outputs": [],
   "source": []
  },
  {
   "cell_type": "markdown",
   "id": "cbbae87f",
   "metadata": {},
   "source": [
    "# Q91. Write a Python program to merge two dictionary."
   ]
  },
  {
   "cell_type": "code",
   "execution_count": 142,
   "id": "103fc99d",
   "metadata": {},
   "outputs": [
    {
     "data": {
      "text/plain": [
       "{'address': 'Downtown',\n",
       " 'age': 27,\n",
       " 'name': 'Jack',\n",
       " 'brand': 'Ford',\n",
       " 'electric': False,\n",
       " 'year': 1964,\n",
       " 'colors': ['red', 'white', 'blue']}"
      ]
     },
     "execution_count": 142,
     "metadata": {},
     "output_type": "execute_result"
    }
   ],
   "source": [
    "d1 = {\"brand\": \"Ford\", \"electric\": False, \"year\": 1964, \"colors\": [\"red\", \"white\", \"blue\"]}\n",
    "d2 = {'address': 'Downtown', 'age': 27, 'name': 'Jack'}\n",
    "d2.update(d1)\n",
    "d2"
   ]
  },
  {
   "cell_type": "markdown",
   "id": "a7c01afa",
   "metadata": {},
   "source": [
    "# Q92. Write a Python program to convert a list of tuples into dictionary.\n",
    "\n",
    "Input : [('Sachin', 10), ('MSD', 7), ('Kohli', 18), ('Rohit', 45)]\n",
    "\n",
    "Output : {'Sachin': 10, 'MSD': 7, 'Kohli': 18, 'Rohit': 45}"
   ]
  },
  {
   "cell_type": "code",
   "execution_count": 143,
   "id": "64927633",
   "metadata": {},
   "outputs": [
    {
     "data": {
      "text/plain": [
       "{'Sachin': 10, 'MSD': 7, 'Kohli': 18, 'Rohit': 45}"
      ]
     },
     "execution_count": 143,
     "metadata": {},
     "output_type": "execute_result"
    }
   ],
   "source": [
    "inpt = [('Sachin', 10), ('MSD', 7), ('Kohli', 18), ('Rohit', 45)]\n",
    "d = {k:v for k,v in inpt}\n",
    "d"
   ]
  },
  {
   "cell_type": "markdown",
   "id": "d02ff073",
   "metadata": {},
   "source": [
    "# Q93. Write a Python program to create a list of tuples from given list having number and its cube in each tuple.\n",
    "\n",
    "Input: list = [9, 5, 6]\n",
    "    \n",
    "Output: [(9, 729), (5, 125), (6, 216)]"
   ]
  },
  {
   "cell_type": "code",
   "execution_count": 144,
   "id": "cc91b815",
   "metadata": {},
   "outputs": [
    {
     "data": {
      "text/plain": [
       "[(9, 729), (5, 125), (6, 216)]"
      ]
     },
     "execution_count": 144,
     "metadata": {},
     "output_type": "execute_result"
    }
   ],
   "source": [
    "lst = [9, 5, 6]\n",
    "cube = [(n, n**3) for n in lst]\n",
    "cube"
   ]
  },
  {
   "cell_type": "markdown",
   "id": "7866b6a0",
   "metadata": {},
   "source": [
    "# Q94. Write a Python program to get all combinations of 2 tuples.\n",
    "\n",
    "Input : test_tuple1 = (7, 2), test_tuple2 = (7, 8)\n",
    "\n",
    "Output : [(7, 7), (7, 8), (2, 7), (2, 8), (7, 7), (7, 2), (8, 7), (8, 2)]\n"
   ]
  },
  {
   "cell_type": "code",
   "execution_count": 145,
   "id": "71e81384",
   "metadata": {},
   "outputs": [
    {
     "data": {
      "text/plain": [
       "[(7, 7), (2, 7), (8, 7), (7, 2), (8, 2), (7, 8), (2, 8)]"
      ]
     },
     "execution_count": 145,
     "metadata": {},
     "output_type": "execute_result"
    }
   ],
   "source": [
    "test_tuple1 = (7, 2)\n",
    "test_tuple2 = (7, 8)\n",
    "c = [(i,j) for i in test_tuple1 for j in test_tuple2]\n",
    "d = [(i,j) for j in test_tuple1 for i in test_tuple2]\n",
    "e = list(set(c).union(set(d)))\n",
    "e"
   ]
  },
  {
   "cell_type": "markdown",
   "id": "122906ee",
   "metadata": {},
   "source": [
    "# Q95. Write a Python program to sort a list of tuples by second item.\n",
    "\n",
    "Input : [('for', 24), ('Geeks', 8), ('Geeks', 30)] \n",
    "    \n",
    "Output : [('Geeks', 8), ('for', 24), ('Geeks', 30)]"
   ]
  },
  {
   "cell_type": "code",
   "execution_count": 146,
   "id": "412b4378",
   "metadata": {},
   "outputs": [
    {
     "data": {
      "text/plain": [
       "[('Geeks', 8), ('for', 24), ('Geeks', 30)]"
      ]
     },
     "execution_count": 146,
     "metadata": {},
     "output_type": "execute_result"
    }
   ],
   "source": [
    "npt = [('for', 24), ('Geeks', 8), ('Geeks', 30)]\n",
    "def get(n):\n",
    "    return npt[n-1]\n",
    "npt.sort(key = lambda x: x[1])\n",
    "npt"
   ]
  },
  {
   "cell_type": "markdown",
   "id": "951583ae",
   "metadata": {},
   "source": [
    "# Q96. Write a python program to print below pattern.\n",
    "\n",
    "* \n",
    "* * \n",
    "* * * \n",
    "* * * * \n",
    "* * * * * "
   ]
  },
  {
   "cell_type": "code",
   "execution_count": 147,
   "id": "53064eb7",
   "metadata": {},
   "outputs": [
    {
     "name": "stdout",
     "output_type": "stream",
     "text": [
      "A Number 5\n",
      "* \n",
      "* * \n",
      "* * * \n",
      "* * * * \n",
      "* * * * * \n"
     ]
    }
   ],
   "source": [
    "for i in range(1, 1+int(input(\"A Number \"))):\n",
    "    print(\"* \"*i)"
   ]
  },
  {
   "cell_type": "markdown",
   "id": "eea30ffa",
   "metadata": {},
   "source": [
    "# Q97. Write a python program to print below pattern.\n",
    "\n",
    "\n",
    "    *\n",
    "    \n",
    "   **\n",
    "   \n",
    "  ***\n",
    "  \n",
    " ****\n",
    " \n",
    "*****"
   ]
  },
  {
   "cell_type": "code",
   "execution_count": 148,
   "id": "f9641b22",
   "metadata": {},
   "outputs": [
    {
     "name": "stdout",
     "output_type": "stream",
     "text": [
      "A Number 5\n",
      "      *\n",
      "     **\n",
      "    ***\n",
      "   ****\n",
      "  *****\n"
     ]
    }
   ],
   "source": [
    "n = 1+int(input(\"A Number \"))\n",
    "for i in range(1, n):\n",
    "    print(\" \"*(n-i), \"*\"*i)"
   ]
  },
  {
   "cell_type": "markdown",
   "id": "f88efb55",
   "metadata": {},
   "source": [
    "# Q98. Write a python program to print below pattern.\n",
    "\n",
    "    * \n",
    "   * * \n",
    "  * * * \n",
    " * * * * \n",
    "* * * * * "
   ]
  },
  {
   "cell_type": "code",
   "execution_count": 149,
   "id": "284e2e95",
   "metadata": {},
   "outputs": [
    {
     "name": "stdout",
     "output_type": "stream",
     "text": [
      "A Number 6\n",
      "       * \n",
      "      * * \n",
      "     * * * \n",
      "    * * * * \n",
      "   * * * * * \n",
      "  * * * * * * \n"
     ]
    }
   ],
   "source": [
    "n = 1+int(input(\"A Number \"))\n",
    "for i in range(1, n):\n",
    "    print(\" \"*(n-i), \"* \"*i)"
   ]
  },
  {
   "cell_type": "markdown",
   "id": "7cf20bcc",
   "metadata": {},
   "source": [
    "# Q99. Write a python program to print below pattern.\n",
    "\n",
    "1 \n",
    "\n",
    "1 2 \n",
    "\n",
    "1 2 3 \n",
    "\n",
    "1 2 3 4 \n",
    "\n",
    "1 2 3 4 5"
   ]
  },
  {
   "cell_type": "code",
   "execution_count": 150,
   "id": "4cbceefc",
   "metadata": {},
   "outputs": [
    {
     "name": "stdout",
     "output_type": "stream",
     "text": [
      "A Number 8\n",
      "\n",
      "1 \n",
      "1 2 \n",
      "1 2 3 \n",
      "1 2 3 4 \n",
      "1 2 3 4 5 \n",
      "1 2 3 4 5 6 \n",
      "1 2 3 4 5 6 7 \n",
      "1 2 3 4 5 6 7 8 \n"
     ]
    }
   ],
   "source": [
    "n = 2+int(input(\"A Number \"))\n",
    "for i in range(1, n):\n",
    "    for j in range(1, i):\n",
    "        print(j, end=' ')\n",
    "    print()"
   ]
  },
  {
   "cell_type": "markdown",
   "id": "1287349e",
   "metadata": {},
   "source": [
    "# Q100. Write a python program to print below pattern.\n",
    "\n",
    "A \n",
    "\n",
    "B B \n",
    "\n",
    "C C C \n",
    "\n",
    "D D D D \n",
    "\n",
    "E E E E E "
   ]
  },
  {
   "cell_type": "code",
   "execution_count": 151,
   "id": "b05531fb",
   "metadata": {},
   "outputs": [
    {
     "name": "stdout",
     "output_type": "stream",
     "text": [
      "A Number 6\n",
      "\n",
      "A \n",
      "B B \n",
      "C C C \n",
      "D D D D \n",
      "E E E E E \n",
      "F F F F F F \n"
     ]
    }
   ],
   "source": [
    "n = 2+int(input(\"A Number \"))\n",
    "for i in range(1, n):\n",
    "    for j in range(1, i):\n",
    "        print(chr(63+i), end=' ')\n",
    "    print()"
   ]
  },
  {
   "cell_type": "code",
   "execution_count": null,
   "id": "233f5df2",
   "metadata": {},
   "outputs": [],
   "source": []
  },
  {
   "cell_type": "code",
   "execution_count": null,
   "id": "72c2f31b",
   "metadata": {},
   "outputs": [],
   "source": []
  },
  {
   "cell_type": "code",
   "execution_count": null,
   "id": "3146f80d",
   "metadata": {},
   "outputs": [],
   "source": []
  },
  {
   "cell_type": "code",
   "execution_count": null,
   "id": "94ad8834",
   "metadata": {},
   "outputs": [],
   "source": []
  },
  {
   "cell_type": "code",
   "execution_count": null,
   "id": "ea88c51a",
   "metadata": {},
   "outputs": [],
   "source": []
  },
  {
   "cell_type": "code",
   "execution_count": null,
   "id": "cc469fe5",
   "metadata": {},
   "outputs": [],
   "source": []
  },
  {
   "cell_type": "code",
   "execution_count": null,
   "id": "332a4072",
   "metadata": {},
   "outputs": [],
   "source": []
  },
  {
   "cell_type": "code",
   "execution_count": null,
   "id": "1c7c8ff2",
   "metadata": {},
   "outputs": [],
   "source": []
  },
  {
   "cell_type": "code",
   "execution_count": null,
   "id": "72703b3d",
   "metadata": {},
   "outputs": [],
   "source": []
  },
  {
   "cell_type": "code",
   "execution_count": null,
   "id": "be2afeb4",
   "metadata": {},
   "outputs": [],
   "source": []
  }
 ],
 "metadata": {
  "kernelspec": {
   "display_name": "Python 3 (ipykernel)",
   "language": "python",
   "name": "python3"
  },
  "language_info": {
   "codemirror_mode": {
    "name": "ipython",
    "version": 3
   },
   "file_extension": ".py",
   "mimetype": "text/x-python",
   "name": "python",
   "nbconvert_exporter": "python",
   "pygments_lexer": "ipython3",
   "version": "3.9.13"
  }
 },
 "nbformat": 4,
 "nbformat_minor": 5
}
